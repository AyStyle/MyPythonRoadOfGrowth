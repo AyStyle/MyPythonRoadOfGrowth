{
 "cells": [
  {
   "cell_type": "markdown",
   "metadata": {
    "ExecuteTime": {
     "end_time": "2021-04-20T07:40:23.421981Z",
     "start_time": "2021-04-20T07:40:23.418959Z"
    },
    "heading_collapsed": true
   },
   "source": [
    "### pandas的数据结构"
   ]
  },
  {
   "cell_type": "code",
   "execution_count": 1,
   "metadata": {
    "ExecuteTime": {
     "end_time": "2021-04-28T15:52:23.268048Z",
     "start_time": "2021-04-28T15:52:23.014938Z"
    },
    "hidden": true
   },
   "outputs": [
    {
     "ename": "ModuleNotFoundError",
     "evalue": "No module named 'pandas'",
     "output_type": "error",
     "traceback": [
      "\u001b[1;31m---------------------------------------------------------------------------\u001b[0m",
      "\u001b[1;31mModuleNotFoundError\u001b[0m                       Traceback (most recent call last)",
      "\u001b[1;32m<ipython-input-1-ea7426f48198>\u001b[0m in \u001b[0;36m<module>\u001b[1;34m\u001b[0m\n\u001b[0;32m      1\u001b[0m \u001b[1;32mimport\u001b[0m \u001b[0mnumpy\u001b[0m \u001b[1;32mas\u001b[0m \u001b[0mnp\u001b[0m\u001b[1;33m\u001b[0m\u001b[1;33m\u001b[0m\u001b[0m\n\u001b[1;32m----> 2\u001b[1;33m \u001b[1;32mimport\u001b[0m \u001b[0mpandas\u001b[0m \u001b[1;32mas\u001b[0m \u001b[0mpd\u001b[0m \u001b[1;31m# Pandas基于Numpy，可以看做是Numpy的升级\u001b[0m\u001b[1;33m\u001b[0m\u001b[1;33m\u001b[0m\u001b[0m\n\u001b[0m",
      "\u001b[1;31mModuleNotFoundError\u001b[0m: No module named 'pandas'"
     ]
    }
   ],
   "source": [
    "import numpy as np\n",
    "import pandas as pd # Pandas基于Numpy，可以看做是Numpy的升级"
   ]
  },
  {
   "cell_type": "markdown",
   "metadata": {
    "hidden": true
   },
   "source": [
    "#### Series"
   ]
  },
  {
   "cell_type": "code",
   "execution_count": null,
   "metadata": {
    "ExecuteTime": {
     "end_time": "2021-04-28T15:52:23.271677Z",
     "start_time": "2021-04-28T15:52:23.018Z"
    },
    "hidden": true
   },
   "outputs": [],
   "source": [
    "# Series，Series是一维数组，和Numpy数组不一样。Series多了索引\n",
    "\n",
    "l = np.array([1,2,3,6,9])\n",
    "\n",
    "s = pd.Series(l)\n",
    "display(l,s)"
   ]
  },
  {
   "cell_type": "code",
   "execution_count": null,
   "metadata": {
    "ExecuteTime": {
     "end_time": "2021-04-28T15:52:23.273009Z",
     "start_time": "2021-04-28T15:52:23.022Z"
    },
    "hidden": true
   },
   "outputs": [],
   "source": [
    "si = pd.Series(data = l,index=list(\"ABCDE\"))\n",
    "display(si)"
   ]
  },
  {
   "cell_type": "code",
   "execution_count": null,
   "metadata": {
    "ExecuteTime": {
     "end_time": "2021-04-28T15:52:23.273678Z",
     "start_time": "2021-04-28T15:52:23.025Z"
    },
    "hidden": true
   },
   "outputs": [],
   "source": [
    "s1 = pd.Series(data = {'A':1,'B':2,'C':3,'D':4,'E':5})\n",
    "display(s1)"
   ]
  },
  {
   "cell_type": "markdown",
   "metadata": {
    "hidden": true
   },
   "source": [
    "#### DataFrame"
   ]
  },
  {
   "cell_type": "code",
   "execution_count": null,
   "metadata": {
    "ExecuteTime": {
     "end_time": "2021-04-28T15:52:23.275191Z",
     "start_time": "2021-04-28T15:52:23.029Z"
    },
    "hidden": true
   },
   "outputs": [],
   "source": [
    "# Series是一维的，功能比较少\n",
    "# DataFrame是二维的，多个Series公用索引就组成了DataFrame\n",
    "df1 = pd.DataFrame(data = np.random.randint(0,151,size = (5,5)),index=list(\"ABCDE\"),columns=list(\"abcde\"))\n",
    "display(df1)"
   ]
  },
  {
   "cell_type": "code",
   "execution_count": null,
   "metadata": {
    "ExecuteTime": {
     "end_time": "2021-04-28T15:52:23.276281Z",
     "start_time": "2021-04-28T15:52:23.032Z"
    },
    "hidden": true
   },
   "outputs": [],
   "source": [
    "# 如果传入字典，则：key作为列索引，行索引从0开始\n",
    "df2 = pd.DataFrame(data = {\"A\":[1,2,3],\"B\":[4,5,6],\"C\":[7,8,9]})\n",
    "display(df2)"
   ]
  },
  {
   "cell_type": "markdown",
   "metadata": {
    "ExecuteTime": {
     "end_time": "2021-04-20T08:08:45.801641Z",
     "start_time": "2021-04-20T08:08:45.788358Z"
    },
    "heading_collapsed": true
   },
   "source": [
    "### 数据查看"
   ]
  },
  {
   "cell_type": "code",
   "execution_count": null,
   "metadata": {
    "ExecuteTime": {
     "end_time": "2021-04-28T15:52:23.277087Z",
     "start_time": "2021-04-28T15:52:23.035Z"
    },
    "hidden": true
   },
   "outputs": [],
   "source": [
    "df = pd.DataFrame(data = np.random.randint(0,151,size = (100,3)),columns=[\"Math\",\"English\",\"Python\"])\n",
    "display(df)"
   ]
  },
  {
   "cell_type": "code",
   "execution_count": null,
   "metadata": {
    "ExecuteTime": {
     "end_time": "2021-04-28T15:52:23.277973Z",
     "start_time": "2021-04-28T15:52:23.039Z"
    },
    "hidden": true
   },
   "outputs": [],
   "source": [
    "# 显示图形\n",
    "df.shape"
   ]
  },
  {
   "cell_type": "code",
   "execution_count": null,
   "metadata": {
    "ExecuteTime": {
     "end_time": "2021-04-28T15:52:23.278602Z",
     "start_time": "2021-04-28T15:52:23.042Z"
    },
    "hidden": true
   },
   "outputs": [],
   "source": [
    "# 显示前n行元素，默认 n = 5\n",
    "df.head()"
   ]
  },
  {
   "cell_type": "code",
   "execution_count": null,
   "metadata": {
    "ExecuteTime": {
     "end_time": "2021-04-28T15:52:23.279603Z",
     "start_time": "2021-04-28T15:52:23.044Z"
    },
    "hidden": true
   },
   "outputs": [],
   "source": [
    "# 显示后n行元素，默认 n = 5\n",
    "df.tail()"
   ]
  },
  {
   "cell_type": "code",
   "execution_count": null,
   "metadata": {
    "ExecuteTime": {
     "end_time": "2021-04-28T15:52:23.280603Z",
     "start_time": "2021-04-28T15:52:23.047Z"
    },
    "hidden": true
   },
   "outputs": [],
   "source": [
    "# 查看数据类型\n",
    "df.dtypes"
   ]
  },
  {
   "cell_type": "code",
   "execution_count": null,
   "metadata": {
    "ExecuteTime": {
     "end_time": "2021-04-28T15:52:23.281602Z",
     "start_time": "2021-04-28T15:52:23.050Z"
    },
    "hidden": true
   },
   "outputs": [],
   "source": [
    "# 显示详细信息\n",
    "df.info()"
   ]
  },
  {
   "cell_type": "code",
   "execution_count": null,
   "metadata": {
    "ExecuteTime": {
     "end_time": "2021-04-28T15:52:23.281602Z",
     "start_time": "2021-04-28T15:52:23.053Z"
    },
    "hidden": true
   },
   "outputs": [],
   "source": [
    "# 描述：计数，平均数，标准差，最小资，1/4点，中位数（1/2）点，3/4点，最大值\n",
    "df.describe()"
   ]
  },
  {
   "cell_type": "code",
   "execution_count": null,
   "metadata": {
    "ExecuteTime": {
     "end_time": "2021-04-28T15:52:23.282870Z",
     "start_time": "2021-04-28T15:52:23.055Z"
    },
    "hidden": true
   },
   "outputs": [],
   "source": [
    "# 值，返回的是NumPy数组\n",
    "df.values"
   ]
  },
  {
   "cell_type": "code",
   "execution_count": null,
   "metadata": {
    "ExecuteTime": {
     "end_time": "2021-04-28T15:52:23.284603Z",
     "start_time": "2021-04-28T15:52:23.058Z"
    },
    "hidden": true
   },
   "outputs": [],
   "source": [
    "# 列索引\n",
    "df.columns"
   ]
  },
  {
   "cell_type": "code",
   "execution_count": null,
   "metadata": {
    "ExecuteTime": {
     "end_time": "2021-04-28T15:52:23.286133Z",
     "start_time": "2021-04-28T15:52:23.061Z"
    },
    "hidden": true
   },
   "outputs": [],
   "source": [
    "# 行索引\n",
    "df.index"
   ]
  },
  {
   "cell_type": "markdown",
   "metadata": {},
   "source": [
    "### 数据输入与输出"
   ]
  },
  {
   "cell_type": "markdown",
   "metadata": {
    "heading_collapsed": true
   },
   "source": [
    "#### CSV "
   ]
  },
  {
   "cell_type": "code",
   "execution_count": null,
   "metadata": {
    "ExecuteTime": {
     "end_time": "2021-04-28T15:52:23.286717Z",
     "start_time": "2021-04-28T15:52:23.065Z"
    },
    "hidden": true
   },
   "outputs": [],
   "source": [
    "df = pd.DataFrame(data  = np.random.randint(0,151,size=(100,3)),columns=[\"Python\",\"Math\",\"En\"])\n",
    "df"
   ]
  },
  {
   "cell_type": "code",
   "execution_count": null,
   "metadata": {
    "ExecuteTime": {
     "end_time": "2021-04-28T15:52:23.287874Z",
     "start_time": "2021-04-28T15:52:23.068Z"
    },
    "hidden": true
   },
   "outputs": [],
   "source": [
    "df.to_csv(\"C:/Users/dreed/Desktop/pandas_data.csv\",\n",
    "          sep = \",\", # 保存分隔符\n",
    "          index = True, # 保存行索引\n",
    "          header = True # 保存列索引\n",
    "         )"
   ]
  },
  {
   "cell_type": "code",
   "execution_count": null,
   "metadata": {
    "ExecuteTime": {
     "end_time": "2021-04-28T15:52:23.288638Z",
     "start_time": "2021-04-28T15:52:23.071Z"
    },
    "hidden": true
   },
   "outputs": [],
   "source": [
    "pd.read_csv(\"C:/Users/dreed/Desktop/pandas_data.csv\",\n",
    "            index_col=0, # 设置第一列为行索引\n",
    "            header=0 # 设置第一行为列索引\n",
    "         \n",
    ")"
   ]
  },
  {
   "cell_type": "markdown",
   "metadata": {
    "heading_collapsed": true
   },
   "source": [
    "#### Excel"
   ]
  },
  {
   "cell_type": "code",
   "execution_count": null,
   "metadata": {
    "ExecuteTime": {
     "end_time": "2021-04-28T15:52:23.289639Z",
     "start_time": "2021-04-28T15:52:23.074Z"
    },
    "hidden": true
   },
   "outputs": [],
   "source": [
    "# 导出Excel文件，xls格式需要导入xlwt模块，xlsx格式需要导入openpyxl\n",
    "df.to_excel(\"C:/Users/dreed/Desktop/pandas_data.xlsx\")"
   ]
  },
  {
   "cell_type": "code",
   "execution_count": null,
   "metadata": {
    "ExecuteTime": {
     "end_time": "2021-04-28T15:52:23.289639Z",
     "start_time": "2021-04-28T15:52:23.077Z"
    },
    "hidden": true
   },
   "outputs": [],
   "source": [
    "pd.read_excel(\"C:/Users/dreed/Desktop/pandas_data.xlsx\",\n",
    "    index_col = 0, # 设置行索引\n",
    "    header = 0 # 设置列索引   \n",
    "             )"
   ]
  },
  {
   "cell_type": "markdown",
   "metadata": {
    "ExecuteTime": {
     "end_time": "2021-04-20T09:53:41.354607Z",
     "start_time": "2021-04-20T09:53:41.349440Z"
    }
   },
   "source": [
    "#### HDF5"
   ]
  },
  {
   "cell_type": "code",
   "execution_count": null,
   "metadata": {
    "ExecuteTime": {
     "end_time": "2021-04-28T15:52:23.291638Z",
     "start_time": "2021-04-28T15:52:23.080Z"
    }
   },
   "outputs": [],
   "source": [
    "# 需要引入tables这个包\n",
    "df.to_hdf(\"C:/Users/dreed/Desktop/pandas_data.df5\")"
   ]
  },
  {
   "cell_type": "markdown",
   "metadata": {},
   "source": [
    "#### SQL"
   ]
  },
  {
   "cell_type": "markdown",
   "metadata": {
    "ExecuteTime": {
     "end_time": "2021-04-21T07:15:09.565478Z",
     "start_time": "2021-04-21T07:15:09.556184Z"
    }
   },
   "source": [
    "### 数据选取"
   ]
  },
  {
   "cell_type": "markdown",
   "metadata": {
    "ExecuteTime": {
     "end_time": "2021-04-21T07:15:46.320115Z",
     "start_time": "2021-04-21T07:15:46.303882Z"
    }
   },
   "source": [
    "#### 获取数据 "
   ]
  },
  {
   "cell_type": "code",
   "execution_count": null,
   "metadata": {
    "ExecuteTime": {
     "end_time": "2021-04-28T15:52:23.292638Z",
     "start_time": "2021-04-28T15:52:23.084Z"
    }
   },
   "outputs": [],
   "source": [
    "df = pd.DataFrame(data = np.random.randint(0,151,size = (26,3)),index=list(\"ABCDEFGHIJKLMNOPQRSTUVWXYZ\"),columns = [\"Python\",\"Java\",\"Groovy\"])\n",
    "df"
   ]
  },
  {
   "cell_type": "code",
   "execution_count": null,
   "metadata": {
    "ExecuteTime": {
     "end_time": "2021-04-28T15:52:23.293682Z",
     "start_time": "2021-04-28T15:52:23.089Z"
    }
   },
   "outputs": [],
   "source": [
    "df.Python"
   ]
  },
  {
   "cell_type": "code",
   "execution_count": null,
   "metadata": {
    "ExecuteTime": {
     "end_time": "2021-04-28T15:52:23.293682Z",
     "start_time": "2021-04-28T15:52:23.093Z"
    }
   },
   "outputs": [],
   "source": [
    "df[\"Python\"]"
   ]
  },
  {
   "cell_type": "code",
   "execution_count": null,
   "metadata": {
    "ExecuteTime": {
     "end_time": "2021-04-28T15:52:23.294638Z",
     "start_time": "2021-04-28T15:52:23.098Z"
    }
   },
   "outputs": [],
   "source": [
    "df['A'::2]"
   ]
  },
  {
   "cell_type": "code",
   "execution_count": null,
   "metadata": {
    "ExecuteTime": {
     "end_time": "2021-04-28T15:52:23.295638Z",
     "start_time": "2021-04-28T15:52:23.101Z"
    }
   },
   "outputs": [],
   "source": [
    "df[['Python',\"Java\"]]"
   ]
  },
  {
   "cell_type": "markdown",
   "metadata": {
    "ExecuteTime": {
     "end_time": "2021-04-21T07:23:01.923498Z",
     "start_time": "2021-04-21T07:23:01.914357Z"
    }
   },
   "source": [
    "#### 标签获取"
   ]
  },
  {
   "cell_type": "code",
   "execution_count": null,
   "metadata": {
    "ExecuteTime": {
     "end_time": "2021-04-28T15:52:23.295638Z",
     "start_time": "2021-04-28T15:52:23.105Z"
    }
   },
   "outputs": [],
   "source": [
    "df.loc['A'::2,'Python'::2]"
   ]
  },
  {
   "cell_type": "code",
   "execution_count": null,
   "metadata": {
    "ExecuteTime": {
     "end_time": "2021-04-28T15:52:23.296966Z",
     "start_time": "2021-04-28T15:52:23.107Z"
    }
   },
   "outputs": [],
   "source": [
    "df.loc[list(\"ABC\"),['Python','Java']]"
   ]
  },
  {
   "cell_type": "markdown",
   "metadata": {},
   "source": [
    "#### 位置获取"
   ]
  },
  {
   "cell_type": "code",
   "execution_count": null,
   "metadata": {
    "ExecuteTime": {
     "end_time": "2021-04-28T15:52:23.297650Z",
     "start_time": "2021-04-28T15:52:23.111Z"
    }
   },
   "outputs": [],
   "source": [
    "df.iloc[0::5,1:]"
   ]
  },
  {
   "cell_type": "markdown",
   "metadata": {
    "ExecuteTime": {
     "end_time": "2021-04-21T07:27:48.481678Z",
     "start_time": "2021-04-21T07:27:48.472628Z"
    }
   },
   "source": [
    "#### boolean索引"
   ]
  },
  {
   "cell_type": "code",
   "execution_count": null,
   "metadata": {
    "ExecuteTime": {
     "end_time": "2021-04-28T15:52:23.298481Z",
     "start_time": "2021-04-28T15:52:23.115Z"
    }
   },
   "outputs": [],
   "source": [
    "cond = df.Python > 80\n",
    "df[cond]"
   ]
  },
  {
   "cell_type": "code",
   "execution_count": null,
   "metadata": {
    "ExecuteTime": {
     "end_time": "2021-04-28T15:52:23.300556Z",
     "start_time": "2021-04-28T15:52:23.118Z"
    }
   },
   "outputs": [],
   "source": [
    "cond = df.mean(axis = 1) > 75\n",
    "df[cond]"
   ]
  },
  {
   "cell_type": "code",
   "execution_count": null,
   "metadata": {
    "ExecuteTime": {
     "end_time": "2021-04-28T15:52:23.301482Z",
     "start_time": "2021-04-28T15:52:23.120Z"
    }
   },
   "outputs": [],
   "source": [
    "cond = (df.Python > 80) & (df.Java > 100)\n",
    "df[cond]"
   ]
  },
  {
   "cell_type": "code",
   "execution_count": null,
   "metadata": {
    "ExecuteTime": {
     "end_time": "2021-04-28T15:52:23.301482Z",
     "start_time": "2021-04-28T15:52:23.123Z"
    }
   },
   "outputs": [],
   "source": [
    "cond = df.index.isin(list(\"XYZMNPQ\"))\n",
    "df[cond]"
   ]
  },
  {
   "cell_type": "markdown",
   "metadata": {},
   "source": [
    "#### 赋值操作"
   ]
  },
  {
   "cell_type": "code",
   "execution_count": null,
   "metadata": {
    "ExecuteTime": {
     "end_time": "2021-04-28T15:52:23.302482Z",
     "start_time": "2021-04-28T15:52:23.129Z"
    }
   },
   "outputs": [],
   "source": [
    "# 修改对应位置上的数据\n",
    "df[\"Python\"][\"A\"] = 150\n",
    "df"
   ]
  },
  {
   "cell_type": "code",
   "execution_count": null,
   "metadata": {
    "ExecuteTime": {
     "end_time": "2021-04-28T15:52:23.304484Z",
     "start_time": "2021-04-28T15:52:23.132Z"
    }
   },
   "outputs": [],
   "source": [
    "# 新添加一列\n",
    "df['Scala'] = np.random.randint(0,151,size = 26)\n",
    "df"
   ]
  },
  {
   "cell_type": "code",
   "execution_count": null,
   "metadata": {
    "ExecuteTime": {
     "end_time": "2021-04-28T15:52:23.305325Z",
     "start_time": "2021-04-28T15:52:23.139Z"
    }
   },
   "outputs": [],
   "source": [
    "df.loc[list(\"ABC\"),\"Groovy\"] = 100\n",
    "df"
   ]
  },
  {
   "cell_type": "code",
   "execution_count": null,
   "metadata": {
    "ExecuteTime": {
     "end_time": "2021-04-28T15:52:23.306115Z",
     "start_time": "2021-04-28T15:52:23.142Z"
    }
   },
   "outputs": [],
   "source": [
    "cond = df < 60\n",
    "df[cond] = 60\n",
    "df"
   ]
  },
  {
   "cell_type": "markdown",
   "metadata": {},
   "source": [
    "### 数据集成"
   ]
  },
  {
   "cell_type": "markdown",
   "metadata": {
    "ExecuteTime": {
     "end_time": "2021-04-21T07:53:08.643665Z",
     "start_time": "2021-04-21T07:53:08.638992Z"
    }
   },
   "source": [
    "#### concat数据串联"
   ]
  },
  {
   "cell_type": "code",
   "execution_count": null,
   "metadata": {
    "ExecuteTime": {
     "end_time": "2021-04-28T15:52:23.307494Z",
     "start_time": "2021-04-28T15:52:23.148Z"
    }
   },
   "outputs": [],
   "source": [
    "# np.concatenate NumPy数据串联\n",
    "columns = [\"Python\",\"Java\",\"Groovy\"]\n",
    "df1 = pd.DataFrame(np.random.randint(0,151,size = (5,3)),index=list(\"ABCDE\"),columns=columns)\n",
    "df2 = pd.DataFrame(np.random.randint(0,151,size = (5,3)),index=list(\"MNXYZ\"),columns=columns)\n",
    "df3 = pd.DataFrame(np.random.randint(0,151,size = (5,2)),index=list(\"PQIJK\"),columns=[\"Shell\",\"Scala\"])\n",
    "display(df1,df2,df3)"
   ]
  },
  {
   "cell_type": "code",
   "execution_count": null,
   "metadata": {
    "ExecuteTime": {
     "end_time": "2021-04-28T15:52:23.308387Z",
     "start_time": "2021-04-28T15:52:23.150Z"
    }
   },
   "outputs": [],
   "source": [
    "pd.concat([df1,df2],axis=0)"
   ]
  },
  {
   "cell_type": "code",
   "execution_count": null,
   "metadata": {
    "ExecuteTime": {
     "end_time": "2021-04-28T15:52:23.309388Z",
     "start_time": "2021-04-28T15:52:23.153Z"
    }
   },
   "outputs": [],
   "source": [
    "pd.concat([df1,df3],axis=1)"
   ]
  },
  {
   "cell_type": "markdown",
   "metadata": {
    "ExecuteTime": {
     "end_time": "2021-04-21T08:04:09.341521Z",
     "start_time": "2021-04-21T08:04:09.335525Z"
    }
   },
   "source": [
    "#### 数据插入"
   ]
  },
  {
   "cell_type": "code",
   "execution_count": null,
   "metadata": {
    "ExecuteTime": {
     "end_time": "2021-04-28T15:52:23.310851Z",
     "start_time": "2021-04-28T15:52:23.157Z"
    },
    "scrolled": true
   },
   "outputs": [],
   "source": [
    "# 插入一列数据\n",
    "df1.insert(loc = 1,column = \"C++\",value = np.random.randint(0,151,size = 5))\n",
    "df1"
   ]
  },
  {
   "cell_type": "code",
   "execution_count": null,
   "metadata": {
    "ExecuteTime": {
     "end_time": "2021-04-28T15:52:23.311536Z",
     "start_time": "2021-04-28T15:52:23.160Z"
    }
   },
   "outputs": [],
   "source": [
    "# 插入行数据\n",
    "df1.append(df2)"
   ]
  },
  {
   "cell_type": "markdown",
   "metadata": {},
   "source": [
    "#### JOIN SQL风格合并"
   ]
  },
  {
   "cell_type": "code",
   "execution_count": null,
   "metadata": {
    "ExecuteTime": {
     "end_time": "2021-04-28T15:52:23.312387Z",
     "start_time": "2021-04-28T15:52:23.164Z"
    }
   },
   "outputs": [],
   "source": [
    "df1 = pd.DataFrame(data = {\"name\":[\"张三\",\"李四\",\"王五\",\"赵六\"],\"height\":[175,172,169,183]})\n",
    "df2 = pd.DataFrame(data = {\"name\":[\"张三\",\"李四\",\"王五\",\"安康\"],\"weight\":[150,132,90,120]})\n",
    "df3 = pd.DataFrame(data = {\"名字\":[\"张三\",\"李四\",\"王五\",\"安康\"],\"salary\":[12000,18000,8000,30000]})\n",
    "display(df1,df2,df3)"
   ]
  },
  {
   "cell_type": "code",
   "execution_count": null,
   "metadata": {
    "ExecuteTime": {
     "end_time": "2021-04-28T15:52:23.313666Z",
     "start_time": "2021-04-28T15:52:23.168Z"
    }
   },
   "outputs": [],
   "source": [
    "# 根据共同的属性合并数据\n",
    "# df1 和 df2 共同属性：name\n",
    "# 数据库，合并join，共同key\n",
    "pd.merge(df1,df2) "
   ]
  },
  {
   "cell_type": "code",
   "execution_count": null,
   "metadata": {
    "ExecuteTime": {
     "end_time": "2021-04-28T15:52:23.315387Z",
     "start_time": "2021-04-28T15:52:23.172Z"
    }
   },
   "outputs": [],
   "source": [
    "# how 设置合并方式：left、right、outer、inner、cross，默认：inner\n",
    "pd.merge(df1,df2,how=\"outer\") "
   ]
  },
  {
   "cell_type": "code",
   "execution_count": null,
   "metadata": {
    "ExecuteTime": {
     "end_time": "2021-04-28T15:52:23.315387Z",
     "start_time": "2021-04-28T15:52:23.176Z"
    },
    "scrolled": true
   },
   "outputs": [],
   "source": [
    "# 指定关联条件\n",
    "pd.merge(df2,df3,left_on='name',right_on='名字')"
   ]
  },
  {
   "cell_type": "code",
   "execution_count": null,
   "metadata": {
    "ExecuteTime": {
     "end_time": "2021-04-28T15:52:23.316386Z",
     "start_time": "2021-04-28T15:52:23.180Z"
    }
   },
   "outputs": [],
   "source": [
    "df4 = pd.DataFrame(data = np.random.randint(0,151,size = (8,3)),index=list(\"ABCDEFGH\"),columns=[\"Python\",\"Math\",\"Shell\"])\n",
    "df4"
   ]
  },
  {
   "cell_type": "code",
   "execution_count": null,
   "metadata": {
    "ExecuteTime": {
     "end_time": "2021-04-28T15:52:23.317902Z",
     "start_time": "2021-04-28T15:52:23.184Z"
    }
   },
   "outputs": [],
   "source": [
    "score_mean = df4.mean(axis=1).round(2)\n",
    "\n",
    "df4.insert(loc = df4.shape[1],column=\"avg_score\",value=score_mean)\n",
    "df4"
   ]
  },
  {
   "cell_type": "markdown",
   "metadata": {
    "ExecuteTime": {
     "end_time": "2021-04-21T08:49:58.185908Z",
     "start_time": "2021-04-21T08:49:58.177154Z"
    }
   },
   "source": [
    "### 数据清洗"
   ]
  },
  {
   "cell_type": "code",
   "execution_count": null,
   "metadata": {
    "ExecuteTime": {
     "end_time": "2021-04-28T15:52:23.318540Z",
     "start_time": "2021-04-28T15:52:23.188Z"
    }
   },
   "outputs": [],
   "source": [
    "df = pd.DataFrame(data = {\"color\":[\"red\",\"green\",\"blue\",\"blue\",\"red\",None,np.NaN,\"green\",\"blue\"],\"price\":[18,20,22,22,30,15,15,43,57]})\n",
    "df"
   ]
  },
  {
   "cell_type": "code",
   "execution_count": null,
   "metadata": {
    "ExecuteTime": {
     "end_time": "2021-04-28T15:52:23.318913Z",
     "start_time": "2021-04-28T15:52:23.200Z"
    }
   },
   "outputs": [],
   "source": [
    "# 删除重复数据,NaN和None是一回事\n",
    "df.drop_duplicates()"
   ]
  },
  {
   "cell_type": "code",
   "execution_count": null,
   "metadata": {
    "ExecuteTime": {
     "end_time": "2021-04-28T15:52:23.319912Z",
     "start_time": "2021-04-28T15:52:23.206Z"
    }
   },
   "outputs": [],
   "source": [
    "# 删除空数据\n",
    "df.dropna()"
   ]
  },
  {
   "cell_type": "code",
   "execution_count": null,
   "metadata": {
    "ExecuteTime": {
     "end_time": "2021-04-28T15:52:23.319912Z",
     "start_time": "2021-04-28T15:52:23.210Z"
    }
   },
   "outputs": [],
   "source": [
    "# 删除行\n",
    "df.drop(index=[0,2,4,6,8])"
   ]
  },
  {
   "cell_type": "code",
   "execution_count": null,
   "metadata": {
    "ExecuteTime": {
     "end_time": "2021-04-28T15:52:23.321067Z",
     "start_time": "2021-04-28T15:52:23.215Z"
    }
   },
   "outputs": [],
   "source": [
    "# 删除列\n",
    "df.drop(columns='price')"
   ]
  },
  {
   "cell_type": "code",
   "execution_count": null,
   "metadata": {
    "ExecuteTime": {
     "end_time": "2021-04-28T15:52:23.321936Z",
     "start_time": "2021-04-28T15:52:23.219Z"
    }
   },
   "outputs": [],
   "source": [
    "# filter过滤数据\n",
    "df.filter(items=['color'],axis=1)"
   ]
  },
  {
   "cell_type": "code",
   "execution_count": null,
   "metadata": {
    "ExecuteTime": {
     "end_time": "2021-04-28T15:52:23.322913Z",
     "start_time": "2021-04-28T15:52:23.222Z"
    }
   },
   "outputs": [],
   "source": [
    "df['size'] = 1024 # 广播\n",
    "df"
   ]
  },
  {
   "cell_type": "code",
   "execution_count": null,
   "metadata": {
    "ExecuteTime": {
     "end_time": "2021-04-28T15:52:23.324302Z",
     "start_time": "2021-04-28T15:52:23.226Z"
    }
   },
   "outputs": [],
   "source": [
    "# 模糊匹配，保留带i的列\n",
    "df.filter(like='i')"
   ]
  },
  {
   "cell_type": "code",
   "execution_count": null,
   "metadata": {
    "ExecuteTime": {
     "end_time": "2021-04-28T15:52:23.325505Z",
     "start_time": "2021-04-28T15:52:23.229Z"
    }
   },
   "outputs": [],
   "source": [
    "# 使用正则表达式过滤\n",
    "df.filter(regex=\"r$\")"
   ]
  },
  {
   "cell_type": "code",
   "execution_count": null,
   "metadata": {
    "ExecuteTime": {
     "end_time": "2021-04-28T15:52:23.326476Z",
     "start_time": "2021-04-28T15:52:23.231Z"
    }
   },
   "outputs": [],
   "source": [
    "# 异常值过滤\n",
    "a = np.random.randint(0,1000,size = 200)\n",
    "display(a)\n",
    "cond = (a <= 800) & (a >= 100)\n",
    "a[cond]"
   ]
  },
  {
   "cell_type": "code",
   "execution_count": null,
   "metadata": {
    "ExecuteTime": {
     "end_time": "2021-04-28T15:52:23.328020Z",
     "start_time": "2021-04-28T15:52:23.234Z"
    },
    "scrolled": true
   },
   "outputs": [],
   "source": [
    "# 正态分布，平均值：0，标准差：1\n",
    "b = np.random.randn(10000)\n",
    "b"
   ]
  },
  {
   "cell_type": "code",
   "execution_count": null,
   "metadata": {
    "ExecuteTime": {
     "end_time": "2021-04-28T15:52:23.328529Z",
     "start_time": "2021-04-28T15:52:23.238Z"
    }
   },
   "outputs": [],
   "source": [
    "cond = np.abs(b) > 3 * 1\n",
    "b[cond]"
   ]
  },
  {
   "cell_type": "markdown",
   "metadata": {
    "ExecuteTime": {
     "end_time": "2021-04-21T12:40:03.462477Z",
     "start_time": "2021-04-21T12:40:03.449690Z"
    }
   },
   "source": [
    "### 数据转换"
   ]
  },
  {
   "cell_type": "markdown",
   "metadata": {},
   "source": [
    "#### 轴和袁术转换"
   ]
  },
  {
   "cell_type": "code",
   "execution_count": null,
   "metadata": {
    "ExecuteTime": {
     "end_time": "2021-04-28T15:52:23.329623Z",
     "start_time": "2021-04-28T15:52:23.242Z"
    }
   },
   "outputs": [],
   "source": [
    "df = pd.DataFrame(data = np.random.randint(1,10,size = (10,3)),columns = [\"Python\",\"Java\",\"Groovy\"],index = list(\"ABCDEFGHIJ\"))\n",
    "df"
   ]
  },
  {
   "cell_type": "code",
   "execution_count": null,
   "metadata": {
    "ExecuteTime": {
     "end_time": "2021-04-28T15:52:23.331587Z",
     "start_time": "2021-04-28T15:52:23.249Z"
    }
   },
   "outputs": [],
   "source": [
    "df.rename(index = {'A':'X','B':'Y','C':'Z'},columns={'Python':'人工智能','Java':'大数据'})"
   ]
  },
  {
   "cell_type": "code",
   "execution_count": null,
   "metadata": {
    "ExecuteTime": {
     "end_time": "2021-04-28T15:52:23.332473Z",
     "start_time": "2021-04-28T15:52:23.253Z"
    }
   },
   "outputs": [],
   "source": [
    "df.replace({9:10})"
   ]
  },
  {
   "cell_type": "code",
   "execution_count": null,
   "metadata": {
    "ExecuteTime": {
     "end_time": "2021-04-28T15:52:23.332537Z",
     "start_time": "2021-04-28T15:52:23.260Z"
    }
   },
   "outputs": [],
   "source": [
    "df.replace({'Groovy':3},-3)"
   ]
  },
  {
   "cell_type": "markdown",
   "metadata": {},
   "source": [
    "#### map映射元素"
   ]
  },
  {
   "cell_type": "code",
   "execution_count": null,
   "metadata": {
    "ExecuteTime": {
     "end_time": "2021-04-28T15:52:23.333539Z",
     "start_time": "2021-04-28T15:52:23.266Z"
    }
   },
   "outputs": [],
   "source": [
    "# map只能针对一列操作，即：Series。没有映射的值都会转为NaN\n",
    "df['Python'].map({9:90,3:30})"
   ]
  },
  {
   "cell_type": "code",
   "execution_count": 2,
   "metadata": {
    "ExecuteTime": {
     "end_time": "2021-04-28T15:52:23.345187Z",
     "start_time": "2021-04-28T15:52:23.337618Z"
    }
   },
   "outputs": [
    {
     "ename": "NameError",
     "evalue": "name 'df' is not defined",
     "output_type": "error",
     "traceback": [
      "\u001b[1;31m---------------------------------------------------------------------------\u001b[0m",
      "\u001b[1;31mNameError\u001b[0m                                 Traceback (most recent call last)",
      "\u001b[1;32m<ipython-input-2-ff1ada4b73d2>\u001b[0m in \u001b[0;36m<module>\u001b[1;34m\u001b[0m\n\u001b[1;32m----> 1\u001b[1;33m \u001b[0mdf\u001b[0m\u001b[1;33m[\u001b[0m\u001b[1;34m'Java'\u001b[0m\u001b[1;33m]\u001b[0m\u001b[1;33m.\u001b[0m\u001b[0mmap\u001b[0m\u001b[1;33m(\u001b[0m\u001b[1;32mlambda\u001b[0m \u001b[0mx\u001b[0m\u001b[1;33m:\u001b[0m\u001b[0mx\u001b[0m \u001b[1;33m**\u001b[0m \u001b[1;36m2\u001b[0m\u001b[1;33m)\u001b[0m\u001b[1;33m\u001b[0m\u001b[1;33m\u001b[0m\u001b[0m\n\u001b[0m",
      "\u001b[1;31mNameError\u001b[0m: name 'df' is not defined"
     ]
    }
   ],
   "source": [
    "df['Java'].map(lambda x:x ** 2)"
   ]
  },
  {
   "cell_type": "code",
   "execution_count": null,
   "metadata": {
    "ExecuteTime": {
     "end_time": "2021-04-28T15:52:23.346536Z",
     "start_time": "2021-04-28T15:52:23.277Z"
    }
   },
   "outputs": [],
   "source": [
    "def convert(x:int) -> int:\n",
    "    return x ** 3\n",
    "df.Groovy.map(convert)"
   ]
  },
  {
   "cell_type": "markdown",
   "metadata": {
    "ExecuteTime": {
     "end_time": "2021-04-21T13:15:27.578113Z",
     "start_time": "2021-04-21T13:15:27.570984Z"
    }
   },
   "source": [
    "#### apply映射元素转变"
   ]
  },
  {
   "cell_type": "code",
   "execution_count": null,
   "metadata": {
    "ExecuteTime": {
     "end_time": "2021-04-28T15:52:23.347819Z",
     "start_time": "2021-04-28T15:52:23.286Z"
    }
   },
   "outputs": [],
   "source": [
    "# apply既可以修改Series又可以修改DataFrame\n",
    "# apply针对列进行修改\n",
    "df.Python.apply(lambda x : x * 2)"
   ]
  },
  {
   "cell_type": "code",
   "execution_count": null,
   "metadata": {
    "ExecuteTime": {
     "end_time": "2021-04-28T15:52:23.349897Z",
     "start_time": "2021-04-28T15:52:23.292Z"
    }
   },
   "outputs": [],
   "source": [
    "# apply针对ataFrame进行修改\n",
    "df.apply(lambda x : x * 2)"
   ]
  },
  {
   "cell_type": "markdown",
   "metadata": {},
   "source": [
    "#### transform元素转变"
   ]
  },
  {
   "cell_type": "code",
   "execution_count": null,
   "metadata": {
    "ExecuteTime": {
     "end_time": "2021-04-28T15:52:23.350833Z",
     "start_time": "2021-04-28T15:52:23.295Z"
    }
   },
   "outputs": [],
   "source": [
    "# transform和apply用法类似\n",
    "df.transform(lambda x : x * 3)"
   ]
  },
  {
   "cell_type": "markdown",
   "metadata": {},
   "source": [
    "#### 重排随机抽样哑变量"
   ]
  },
  {
   "cell_type": "code",
   "execution_count": null,
   "metadata": {
    "ExecuteTime": {
     "end_time": "2021-04-28T15:52:23.351262Z",
     "start_time": "2021-04-28T15:52:23.300Z"
    }
   },
   "outputs": [],
   "source": [
    "# 返回乱序的随机数据\n",
    "index = np.random.permutation(10)\n",
    "index"
   ]
  },
  {
   "cell_type": "code",
   "execution_count": null,
   "metadata": {
    "ExecuteTime": {
     "end_time": "2021-04-28T15:52:23.351831Z",
     "start_time": "2021-04-28T15:52:23.303Z"
    }
   },
   "outputs": [],
   "source": [
    "# 重排，将索引顺序打乱\n",
    "df.take(index)"
   ]
  },
  {
   "cell_type": "code",
   "execution_count": null,
   "metadata": {
    "ExecuteTime": {
     "end_time": "2021-04-28T15:52:23.352832Z",
     "start_time": "2021-04-28T15:52:23.306Z"
    }
   },
   "outputs": [],
   "source": [
    "# 随机抽样数据\n",
    "index = np.random.permutation(10)\n",
    "\n",
    "df.take(np.random.permutation(10)).tail(3)"
   ]
  },
  {
   "cell_type": "code",
   "execution_count": null,
   "metadata": {
    "ExecuteTime": {
     "end_time": "2021-04-28T15:52:23.354101Z",
     "start_time": "2021-04-28T15:52:23.309Z"
    }
   },
   "outputs": [],
   "source": [
    "# 哑变量数据准备\n",
    "df = pd.DataFrame(data={'key':list('ababcbc')})\n",
    "df"
   ]
  },
  {
   "cell_type": "code",
   "execution_count": null,
   "metadata": {
    "ExecuteTime": {
     "end_time": "2021-04-28T15:52:23.354831Z",
     "start_time": "2021-04-28T15:52:23.312Z"
    }
   },
   "outputs": [],
   "source": [
    "# 哑变量 - one-hot\n",
    "pd.get_dummies(df,prefix='',prefix_sep='')"
   ]
  },
  {
   "cell_type": "code",
   "execution_count": null,
   "metadata": {
    "ExecuteTime": {
     "end_time": "2021-04-28T15:52:23.356175Z",
     "start_time": "2021-04-28T15:52:23.315Z"
    }
   },
   "outputs": [],
   "source": [
    "df = pd.DataFrame(data={\"A\":list('ababcbc'),\"B\":list('xyxyzyz')})\n",
    "df"
   ]
  },
  {
   "cell_type": "code",
   "execution_count": null,
   "metadata": {
    "ExecuteTime": {
     "end_time": "2021-04-28T15:52:23.356594Z",
     "start_time": "2021-04-28T15:52:23.320Z"
    }
   },
   "outputs": [],
   "source": [
    "pd.get_dummies(df)"
   ]
  },
  {
   "cell_type": "markdown",
   "metadata": {},
   "source": [
    "### 数据重塑"
   ]
  },
  {
   "cell_type": "code",
   "execution_count": null,
   "metadata": {
    "ExecuteTime": {
     "end_time": "2021-04-28T15:52:23.357740Z",
     "start_time": "2021-04-28T15:52:23.325Z"
    }
   },
   "outputs": [],
   "source": [
    "df"
   ]
  },
  {
   "cell_type": "code",
   "execution_count": 3,
   "metadata": {
    "ExecuteTime": {
     "end_time": "2021-04-28T15:52:23.376569Z",
     "start_time": "2021-04-28T15:52:23.359446Z"
    }
   },
   "outputs": [
    {
     "ename": "NameError",
     "evalue": "name 'df' is not defined",
     "output_type": "error",
     "traceback": [
      "\u001b[1;31m---------------------------------------------------------------------------\u001b[0m",
      "\u001b[1;31mNameError\u001b[0m                                 Traceback (most recent call last)",
      "\u001b[1;32m<ipython-input-3-7fdade2a6a38>\u001b[0m in \u001b[0;36m<module>\u001b[1;34m\u001b[0m\n\u001b[1;32m----> 1\u001b[1;33m \u001b[0mdf\u001b[0m\u001b[1;33m.\u001b[0m\u001b[0mT\u001b[0m\u001b[1;33m\u001b[0m\u001b[1;33m\u001b[0m\u001b[0m\n\u001b[0m",
      "\u001b[1;31mNameError\u001b[0m: name 'df' is not defined"
     ]
    }
   ],
   "source": [
    "df.T"
   ]
  },
  {
   "cell_type": "code",
   "execution_count": null,
   "metadata": {
    "ExecuteTime": {
     "end_time": "2021-04-28T15:52:23.378563Z",
     "start_time": "2021-04-28T15:52:23.332Z"
    },
    "scrolled": true
   },
   "outputs": [],
   "source": [
    "df2 = pd.DataFrame(data = np.random.randint(0,10,size = (30,3)),columns=['Python','Java','Groovy'],index = pd.MultiIndex.from_product([list(\"ABCDEGHIJK\"),list(\"XYZ\")]))\n",
    "df2"
   ]
  },
  {
   "cell_type": "code",
   "execution_count": null,
   "metadata": {
    "ExecuteTime": {
     "end_time": "2021-04-28T15:52:23.379853Z",
     "start_time": "2021-04-28T15:52:23.341Z"
    }
   },
   "outputs": [],
   "source": [
    "# unstack将行索引转变为列索引，level表示层级，默认：-1表示最后一层，层次是从外往里数的\n",
    "df2.unstack(level = 1)"
   ]
  },
  {
   "cell_type": "code",
   "execution_count": null,
   "metadata": {
    "ExecuteTime": {
     "end_time": "2021-04-28T15:52:23.380766Z",
     "start_time": "2021-04-28T15:52:23.347Z"
    }
   },
   "outputs": [],
   "source": [
    "# stack将列索引转变为行索引\n",
    "df2.stack()"
   ]
  },
  {
   "cell_type": "code",
   "execution_count": null,
   "metadata": {
    "ExecuteTime": {
     "end_time": "2021-04-28T15:52:23.382526Z",
     "start_time": "2021-04-28T15:52:23.353Z"
    }
   },
   "outputs": [],
   "source": [
    "display(df2.unstack(level=1).stack(level = 0),df2.unstack(level=0).stack(level = 0))"
   ]
  },
  {
   "cell_type": "code",
   "execution_count": null,
   "metadata": {
    "ExecuteTime": {
     "end_time": "2021-04-28T15:52:23.383524Z",
     "start_time": "2021-04-28T15:52:23.357Z"
    }
   },
   "outputs": [],
   "source": [
    "df2.mean(axis=1,level=0)"
   ]
  },
  {
   "cell_type": "code",
   "execution_count": null,
   "metadata": {},
   "outputs": [],
   "source": []
  },
  {
   "cell_type": "code",
   "execution_count": null,
   "metadata": {},
   "outputs": [],
   "source": []
  },
  {
   "cell_type": "code",
   "execution_count": null,
   "metadata": {},
   "outputs": [],
   "source": []
  },
  {
   "cell_type": "code",
   "execution_count": null,
   "metadata": {},
   "outputs": [],
   "source": []
  },
  {
   "cell_type": "code",
   "execution_count": null,
   "metadata": {},
   "outputs": [],
   "source": []
  },
  {
   "cell_type": "code",
   "execution_count": null,
   "metadata": {},
   "outputs": [],
   "source": []
  },
  {
   "cell_type": "code",
   "execution_count": null,
   "metadata": {},
   "outputs": [],
   "source": []
  },
  {
   "cell_type": "code",
   "execution_count": null,
   "metadata": {},
   "outputs": [],
   "source": []
  },
  {
   "cell_type": "code",
   "execution_count": null,
   "metadata": {},
   "outputs": [],
   "source": []
  },
  {
   "cell_type": "code",
   "execution_count": null,
   "metadata": {},
   "outputs": [],
   "source": []
  },
  {
   "cell_type": "code",
   "execution_count": null,
   "metadata": {},
   "outputs": [],
   "source": []
  },
  {
   "cell_type": "code",
   "execution_count": null,
   "metadata": {},
   "outputs": [],
   "source": []
  },
  {
   "cell_type": "code",
   "execution_count": null,
   "metadata": {},
   "outputs": [],
   "source": []
  },
  {
   "cell_type": "code",
   "execution_count": null,
   "metadata": {},
   "outputs": [],
   "source": []
  },
  {
   "cell_type": "code",
   "execution_count": null,
   "metadata": {},
   "outputs": [],
   "source": []
  },
  {
   "cell_type": "code",
   "execution_count": null,
   "metadata": {},
   "outputs": [],
   "source": []
  },
  {
   "cell_type": "code",
   "execution_count": null,
   "metadata": {},
   "outputs": [],
   "source": []
  },
  {
   "cell_type": "code",
   "execution_count": null,
   "metadata": {},
   "outputs": [],
   "source": []
  },
  {
   "cell_type": "code",
   "execution_count": null,
   "metadata": {},
   "outputs": [],
   "source": []
  },
  {
   "cell_type": "code",
   "execution_count": null,
   "metadata": {},
   "outputs": [],
   "source": []
  },
  {
   "cell_type": "code",
   "execution_count": null,
   "metadata": {},
   "outputs": [],
   "source": []
  },
  {
   "cell_type": "code",
   "execution_count": null,
   "metadata": {},
   "outputs": [],
   "source": []
  },
  {
   "cell_type": "code",
   "execution_count": null,
   "metadata": {},
   "outputs": [],
   "source": []
  },
  {
   "cell_type": "code",
   "execution_count": null,
   "metadata": {},
   "outputs": [],
   "source": []
  },
  {
   "cell_type": "code",
   "execution_count": null,
   "metadata": {},
   "outputs": [],
   "source": []
  },
  {
   "cell_type": "code",
   "execution_count": null,
   "metadata": {},
   "outputs": [],
   "source": []
  },
  {
   "cell_type": "code",
   "execution_count": null,
   "metadata": {},
   "outputs": [],
   "source": []
  },
  {
   "cell_type": "code",
   "execution_count": null,
   "metadata": {},
   "outputs": [],
   "source": []
  },
  {
   "cell_type": "code",
   "execution_count": null,
   "metadata": {},
   "outputs": [],
   "source": []
  },
  {
   "cell_type": "code",
   "execution_count": null,
   "metadata": {},
   "outputs": [],
   "source": []
  },
  {
   "cell_type": "code",
   "execution_count": null,
   "metadata": {},
   "outputs": [],
   "source": []
  },
  {
   "cell_type": "code",
   "execution_count": null,
   "metadata": {},
   "outputs": [],
   "source": []
  },
  {
   "cell_type": "code",
   "execution_count": null,
   "metadata": {},
   "outputs": [],
   "source": []
  },
  {
   "cell_type": "code",
   "execution_count": null,
   "metadata": {},
   "outputs": [],
   "source": []
  },
  {
   "cell_type": "code",
   "execution_count": null,
   "metadata": {},
   "outputs": [],
   "source": []
  },
  {
   "cell_type": "code",
   "execution_count": null,
   "metadata": {},
   "outputs": [],
   "source": []
  },
  {
   "cell_type": "code",
   "execution_count": null,
   "metadata": {},
   "outputs": [],
   "source": []
  },
  {
   "cell_type": "code",
   "execution_count": null,
   "metadata": {},
   "outputs": [],
   "source": []
  },
  {
   "cell_type": "code",
   "execution_count": null,
   "metadata": {},
   "outputs": [],
   "source": []
  },
  {
   "cell_type": "code",
   "execution_count": null,
   "metadata": {},
   "outputs": [],
   "source": []
  },
  {
   "cell_type": "code",
   "execution_count": null,
   "metadata": {},
   "outputs": [],
   "source": []
  },
  {
   "cell_type": "code",
   "execution_count": null,
   "metadata": {},
   "outputs": [],
   "source": []
  },
  {
   "cell_type": "code",
   "execution_count": null,
   "metadata": {},
   "outputs": [],
   "source": []
  },
  {
   "cell_type": "code",
   "execution_count": null,
   "metadata": {},
   "outputs": [],
   "source": []
  },
  {
   "cell_type": "code",
   "execution_count": null,
   "metadata": {},
   "outputs": [],
   "source": []
  },
  {
   "cell_type": "code",
   "execution_count": null,
   "metadata": {},
   "outputs": [],
   "source": []
  },
  {
   "cell_type": "code",
   "execution_count": null,
   "metadata": {},
   "outputs": [],
   "source": []
  },
  {
   "cell_type": "code",
   "execution_count": null,
   "metadata": {},
   "outputs": [],
   "source": []
  }
 ],
 "metadata": {
  "kernelspec": {
   "display_name": "Python 3",
   "language": "python",
   "name": "python3"
  },
  "language_info": {
   "codemirror_mode": {
    "name": "ipython",
    "version": 3
   },
   "file_extension": ".py",
   "mimetype": "text/x-python",
   "name": "python",
   "nbconvert_exporter": "python",
   "pygments_lexer": "ipython3",
   "version": "3.7.1"
  },
  "toc": {
   "base_numbering": 1,
   "nav_menu": {},
   "number_sections": true,
   "sideBar": true,
   "skip_h1_title": false,
   "title_cell": "Table of Contents",
   "title_sidebar": "Contents",
   "toc_cell": false,
   "toc_position": {
    "height": "calc(100% - 180px)",
    "left": "10px",
    "top": "150px",
    "width": "269.2px"
   },
   "toc_section_display": true,
   "toc_window_display": true
  }
 },
 "nbformat": 4,
 "nbformat_minor": 1
}
