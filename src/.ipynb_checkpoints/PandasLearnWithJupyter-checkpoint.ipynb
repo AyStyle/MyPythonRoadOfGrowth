{
 "cells": [
  {
   "cell_type": "markdown",
   "metadata": {
    "ExecuteTime": {
     "end_time": "2021-04-20T07:40:23.421981Z",
     "start_time": "2021-04-20T07:40:23.418959Z"
    },
    "heading_collapsed": true
   },
   "source": [
    "### pandas的数据结构"
   ]
  },
  {
   "cell_type": "code",
   "execution_count": 1,
   "metadata": {
    "ExecuteTime": {
     "end_time": "2021-04-23T06:48:37.058955Z",
     "start_time": "2021-04-23T06:48:36.746142Z"
    },
    "hidden": true
   },
   "outputs": [],
   "source": [
    "import numpy as np\n",
    "import pandas as pd # Pandas基于Numpy，可以看做是Numpy的升级"
   ]
  },
  {
   "cell_type": "markdown",
   "metadata": {
    "hidden": true
   },
   "source": [
    "#### Series"
   ]
  },
  {
   "cell_type": "code",
   "execution_count": 2,
   "metadata": {
    "ExecuteTime": {
     "end_time": "2021-04-23T06:48:37.074958Z",
     "start_time": "2021-04-23T06:48:37.060956Z"
    },
    "hidden": true
   },
   "outputs": [
    {
     "data": {
      "text/plain": [
       "array([1, 2, 3, 6, 9])"
      ]
     },
     "metadata": {},
     "output_type": "display_data"
    },
    {
     "data": {
      "text/plain": [
       "0    1\n",
       "1    2\n",
       "2    3\n",
       "3    6\n",
       "4    9\n",
       "dtype: int32"
      ]
     },
     "metadata": {},
     "output_type": "display_data"
    }
   ],
   "source": [
    "# Series，Series是一维数组，和Numpy数组不一样。Series多了索引\n",
    "\n",
    "l = np.array([1,2,3,6,9])\n",
    "\n",
    "s = pd.Series(l)\n",
    "display(l,s)"
   ]
  },
  {
   "cell_type": "code",
   "execution_count": 3,
   "metadata": {
    "ExecuteTime": {
     "end_time": "2021-04-23T06:48:37.090955Z",
     "start_time": "2021-04-23T06:48:37.077957Z"
    },
    "hidden": true
   },
   "outputs": [
    {
     "data": {
      "text/plain": [
       "A    1\n",
       "B    2\n",
       "C    3\n",
       "D    6\n",
       "E    9\n",
       "dtype: int32"
      ]
     },
     "metadata": {},
     "output_type": "display_data"
    }
   ],
   "source": [
    "si = pd.Series(data = l,index=list(\"ABCDE\"))\n",
    "display(si)"
   ]
  },
  {
   "cell_type": "code",
   "execution_count": 4,
   "metadata": {
    "ExecuteTime": {
     "end_time": "2021-04-23T06:48:37.106957Z",
     "start_time": "2021-04-23T06:48:37.092958Z"
    },
    "hidden": true
   },
   "outputs": [
    {
     "data": {
      "text/plain": [
       "A    1\n",
       "B    2\n",
       "C    3\n",
       "D    4\n",
       "E    5\n",
       "dtype: int64"
      ]
     },
     "metadata": {},
     "output_type": "display_data"
    }
   ],
   "source": [
    "s1 = pd.Series(data = {'A':1,'B':2,'C':3,'D':4,'E':5})\n",
    "display(s1)"
   ]
  },
  {
   "cell_type": "markdown",
   "metadata": {
    "hidden": true
   },
   "source": [
    "#### DataFrame"
   ]
  },
  {
   "cell_type": "code",
   "execution_count": 5,
   "metadata": {
    "ExecuteTime": {
     "end_time": "2021-04-23T06:48:37.122958Z",
     "start_time": "2021-04-23T06:48:37.108954Z"
    },
    "hidden": true
   },
   "outputs": [
    {
     "data": {
      "text/html": [
       "<div>\n",
       "<style scoped>\n",
       "    .dataframe tbody tr th:only-of-type {\n",
       "        vertical-align: middle;\n",
       "    }\n",
       "\n",
       "    .dataframe tbody tr th {\n",
       "        vertical-align: top;\n",
       "    }\n",
       "\n",
       "    .dataframe thead th {\n",
       "        text-align: right;\n",
       "    }\n",
       "</style>\n",
       "<table border=\"1\" class=\"dataframe\">\n",
       "  <thead>\n",
       "    <tr style=\"text-align: right;\">\n",
       "      <th></th>\n",
       "      <th>a</th>\n",
       "      <th>b</th>\n",
       "      <th>c</th>\n",
       "      <th>d</th>\n",
       "      <th>e</th>\n",
       "    </tr>\n",
       "  </thead>\n",
       "  <tbody>\n",
       "    <tr>\n",
       "      <th>A</th>\n",
       "      <td>23</td>\n",
       "      <td>62</td>\n",
       "      <td>66</td>\n",
       "      <td>64</td>\n",
       "      <td>73</td>\n",
       "    </tr>\n",
       "    <tr>\n",
       "      <th>B</th>\n",
       "      <td>14</td>\n",
       "      <td>111</td>\n",
       "      <td>11</td>\n",
       "      <td>43</td>\n",
       "      <td>90</td>\n",
       "    </tr>\n",
       "    <tr>\n",
       "      <th>C</th>\n",
       "      <td>31</td>\n",
       "      <td>98</td>\n",
       "      <td>60</td>\n",
       "      <td>63</td>\n",
       "      <td>129</td>\n",
       "    </tr>\n",
       "    <tr>\n",
       "      <th>D</th>\n",
       "      <td>119</td>\n",
       "      <td>47</td>\n",
       "      <td>106</td>\n",
       "      <td>60</td>\n",
       "      <td>97</td>\n",
       "    </tr>\n",
       "    <tr>\n",
       "      <th>E</th>\n",
       "      <td>107</td>\n",
       "      <td>7</td>\n",
       "      <td>19</td>\n",
       "      <td>13</td>\n",
       "      <td>10</td>\n",
       "    </tr>\n",
       "  </tbody>\n",
       "</table>\n",
       "</div>"
      ],
      "text/plain": [
       "     a    b    c   d    e\n",
       "A   23   62   66  64   73\n",
       "B   14  111   11  43   90\n",
       "C   31   98   60  63  129\n",
       "D  119   47  106  60   97\n",
       "E  107    7   19  13   10"
      ]
     },
     "metadata": {},
     "output_type": "display_data"
    }
   ],
   "source": [
    "# Series是一维的，功能比较少\n",
    "# DataFrame是二维的，多个Series公用索引就组成了DataFrame\n",
    "df1 = pd.DataFrame(data = np.random.randint(0,151,size = (5,5)),index=list(\"ABCDE\"),columns=list(\"abcde\"))\n",
    "display(df1)"
   ]
  },
  {
   "cell_type": "code",
   "execution_count": 6,
   "metadata": {
    "ExecuteTime": {
     "end_time": "2021-04-23T06:48:37.138958Z",
     "start_time": "2021-04-23T06:48:37.124958Z"
    },
    "hidden": true
   },
   "outputs": [
    {
     "data": {
      "text/html": [
       "<div>\n",
       "<style scoped>\n",
       "    .dataframe tbody tr th:only-of-type {\n",
       "        vertical-align: middle;\n",
       "    }\n",
       "\n",
       "    .dataframe tbody tr th {\n",
       "        vertical-align: top;\n",
       "    }\n",
       "\n",
       "    .dataframe thead th {\n",
       "        text-align: right;\n",
       "    }\n",
       "</style>\n",
       "<table border=\"1\" class=\"dataframe\">\n",
       "  <thead>\n",
       "    <tr style=\"text-align: right;\">\n",
       "      <th></th>\n",
       "      <th>A</th>\n",
       "      <th>B</th>\n",
       "      <th>C</th>\n",
       "    </tr>\n",
       "  </thead>\n",
       "  <tbody>\n",
       "    <tr>\n",
       "      <th>0</th>\n",
       "      <td>1</td>\n",
       "      <td>4</td>\n",
       "      <td>7</td>\n",
       "    </tr>\n",
       "    <tr>\n",
       "      <th>1</th>\n",
       "      <td>2</td>\n",
       "      <td>5</td>\n",
       "      <td>8</td>\n",
       "    </tr>\n",
       "    <tr>\n",
       "      <th>2</th>\n",
       "      <td>3</td>\n",
       "      <td>6</td>\n",
       "      <td>9</td>\n",
       "    </tr>\n",
       "  </tbody>\n",
       "</table>\n",
       "</div>"
      ],
      "text/plain": [
       "   A  B  C\n",
       "0  1  4  7\n",
       "1  2  5  8\n",
       "2  3  6  9"
      ]
     },
     "metadata": {},
     "output_type": "display_data"
    }
   ],
   "source": [
    "# 如果传入字典，则：key作为列索引，行索引从0开始\n",
    "df2 = pd.DataFrame(data = {\"A\":[1,2,3],\"B\":[4,5,6],\"C\":[7,8,9]})\n",
    "display(df2)"
   ]
  },
  {
   "cell_type": "markdown",
   "metadata": {
    "ExecuteTime": {
     "end_time": "2021-04-20T08:08:45.801641Z",
     "start_time": "2021-04-20T08:08:45.788358Z"
    },
    "heading_collapsed": true
   },
   "source": [
    "### 数据查看"
   ]
  },
  {
   "cell_type": "code",
   "execution_count": 7,
   "metadata": {
    "ExecuteTime": {
     "end_time": "2021-04-23T06:48:37.154958Z",
     "start_time": "2021-04-23T06:48:37.141958Z"
    },
    "hidden": true
   },
   "outputs": [
    {
     "data": {
      "text/html": [
       "<div>\n",
       "<style scoped>\n",
       "    .dataframe tbody tr th:only-of-type {\n",
       "        vertical-align: middle;\n",
       "    }\n",
       "\n",
       "    .dataframe tbody tr th {\n",
       "        vertical-align: top;\n",
       "    }\n",
       "\n",
       "    .dataframe thead th {\n",
       "        text-align: right;\n",
       "    }\n",
       "</style>\n",
       "<table border=\"1\" class=\"dataframe\">\n",
       "  <thead>\n",
       "    <tr style=\"text-align: right;\">\n",
       "      <th></th>\n",
       "      <th>Math</th>\n",
       "      <th>English</th>\n",
       "      <th>Python</th>\n",
       "    </tr>\n",
       "  </thead>\n",
       "  <tbody>\n",
       "    <tr>\n",
       "      <th>0</th>\n",
       "      <td>146</td>\n",
       "      <td>92</td>\n",
       "      <td>5</td>\n",
       "    </tr>\n",
       "    <tr>\n",
       "      <th>1</th>\n",
       "      <td>106</td>\n",
       "      <td>93</td>\n",
       "      <td>25</td>\n",
       "    </tr>\n",
       "    <tr>\n",
       "      <th>2</th>\n",
       "      <td>119</td>\n",
       "      <td>135</td>\n",
       "      <td>147</td>\n",
       "    </tr>\n",
       "    <tr>\n",
       "      <th>3</th>\n",
       "      <td>84</td>\n",
       "      <td>69</td>\n",
       "      <td>6</td>\n",
       "    </tr>\n",
       "    <tr>\n",
       "      <th>4</th>\n",
       "      <td>26</td>\n",
       "      <td>71</td>\n",
       "      <td>49</td>\n",
       "    </tr>\n",
       "    <tr>\n",
       "      <th>...</th>\n",
       "      <td>...</td>\n",
       "      <td>...</td>\n",
       "      <td>...</td>\n",
       "    </tr>\n",
       "    <tr>\n",
       "      <th>95</th>\n",
       "      <td>27</td>\n",
       "      <td>61</td>\n",
       "      <td>55</td>\n",
       "    </tr>\n",
       "    <tr>\n",
       "      <th>96</th>\n",
       "      <td>92</td>\n",
       "      <td>149</td>\n",
       "      <td>123</td>\n",
       "    </tr>\n",
       "    <tr>\n",
       "      <th>97</th>\n",
       "      <td>46</td>\n",
       "      <td>129</td>\n",
       "      <td>72</td>\n",
       "    </tr>\n",
       "    <tr>\n",
       "      <th>98</th>\n",
       "      <td>32</td>\n",
       "      <td>69</td>\n",
       "      <td>124</td>\n",
       "    </tr>\n",
       "    <tr>\n",
       "      <th>99</th>\n",
       "      <td>143</td>\n",
       "      <td>113</td>\n",
       "      <td>8</td>\n",
       "    </tr>\n",
       "  </tbody>\n",
       "</table>\n",
       "<p>100 rows × 3 columns</p>\n",
       "</div>"
      ],
      "text/plain": [
       "    Math  English  Python\n",
       "0    146       92       5\n",
       "1    106       93      25\n",
       "2    119      135     147\n",
       "3     84       69       6\n",
       "4     26       71      49\n",
       "..   ...      ...     ...\n",
       "95    27       61      55\n",
       "96    92      149     123\n",
       "97    46      129      72\n",
       "98    32       69     124\n",
       "99   143      113       8\n",
       "\n",
       "[100 rows x 3 columns]"
      ]
     },
     "metadata": {},
     "output_type": "display_data"
    }
   ],
   "source": [
    "df = pd.DataFrame(data = np.random.randint(0,151,size = (100,3)),columns=[\"Math\",\"English\",\"Python\"])\n",
    "display(df)"
   ]
  },
  {
   "cell_type": "code",
   "execution_count": 8,
   "metadata": {
    "ExecuteTime": {
     "end_time": "2021-04-23T06:48:37.170954Z",
     "start_time": "2021-04-23T06:48:37.157959Z"
    },
    "hidden": true
   },
   "outputs": [
    {
     "data": {
      "text/plain": [
       "(100, 3)"
      ]
     },
     "execution_count": 8,
     "metadata": {},
     "output_type": "execute_result"
    }
   ],
   "source": [
    "# 显示图形\n",
    "df.shape"
   ]
  },
  {
   "cell_type": "code",
   "execution_count": 9,
   "metadata": {
    "ExecuteTime": {
     "end_time": "2021-04-23T06:48:37.186958Z",
     "start_time": "2021-04-23T06:48:37.172959Z"
    },
    "hidden": true
   },
   "outputs": [
    {
     "data": {
      "text/html": [
       "<div>\n",
       "<style scoped>\n",
       "    .dataframe tbody tr th:only-of-type {\n",
       "        vertical-align: middle;\n",
       "    }\n",
       "\n",
       "    .dataframe tbody tr th {\n",
       "        vertical-align: top;\n",
       "    }\n",
       "\n",
       "    .dataframe thead th {\n",
       "        text-align: right;\n",
       "    }\n",
       "</style>\n",
       "<table border=\"1\" class=\"dataframe\">\n",
       "  <thead>\n",
       "    <tr style=\"text-align: right;\">\n",
       "      <th></th>\n",
       "      <th>Math</th>\n",
       "      <th>English</th>\n",
       "      <th>Python</th>\n",
       "    </tr>\n",
       "  </thead>\n",
       "  <tbody>\n",
       "    <tr>\n",
       "      <th>0</th>\n",
       "      <td>146</td>\n",
       "      <td>92</td>\n",
       "      <td>5</td>\n",
       "    </tr>\n",
       "    <tr>\n",
       "      <th>1</th>\n",
       "      <td>106</td>\n",
       "      <td>93</td>\n",
       "      <td>25</td>\n",
       "    </tr>\n",
       "    <tr>\n",
       "      <th>2</th>\n",
       "      <td>119</td>\n",
       "      <td>135</td>\n",
       "      <td>147</td>\n",
       "    </tr>\n",
       "    <tr>\n",
       "      <th>3</th>\n",
       "      <td>84</td>\n",
       "      <td>69</td>\n",
       "      <td>6</td>\n",
       "    </tr>\n",
       "    <tr>\n",
       "      <th>4</th>\n",
       "      <td>26</td>\n",
       "      <td>71</td>\n",
       "      <td>49</td>\n",
       "    </tr>\n",
       "  </tbody>\n",
       "</table>\n",
       "</div>"
      ],
      "text/plain": [
       "   Math  English  Python\n",
       "0   146       92       5\n",
       "1   106       93      25\n",
       "2   119      135     147\n",
       "3    84       69       6\n",
       "4    26       71      49"
      ]
     },
     "execution_count": 9,
     "metadata": {},
     "output_type": "execute_result"
    }
   ],
   "source": [
    "# 显示前n行元素，默认 n = 5\n",
    "df.head()"
   ]
  },
  {
   "cell_type": "code",
   "execution_count": 10,
   "metadata": {
    "ExecuteTime": {
     "end_time": "2021-04-23T06:48:37.202957Z",
     "start_time": "2021-04-23T06:48:37.188958Z"
    },
    "hidden": true
   },
   "outputs": [
    {
     "data": {
      "text/html": [
       "<div>\n",
       "<style scoped>\n",
       "    .dataframe tbody tr th:only-of-type {\n",
       "        vertical-align: middle;\n",
       "    }\n",
       "\n",
       "    .dataframe tbody tr th {\n",
       "        vertical-align: top;\n",
       "    }\n",
       "\n",
       "    .dataframe thead th {\n",
       "        text-align: right;\n",
       "    }\n",
       "</style>\n",
       "<table border=\"1\" class=\"dataframe\">\n",
       "  <thead>\n",
       "    <tr style=\"text-align: right;\">\n",
       "      <th></th>\n",
       "      <th>Math</th>\n",
       "      <th>English</th>\n",
       "      <th>Python</th>\n",
       "    </tr>\n",
       "  </thead>\n",
       "  <tbody>\n",
       "    <tr>\n",
       "      <th>95</th>\n",
       "      <td>27</td>\n",
       "      <td>61</td>\n",
       "      <td>55</td>\n",
       "    </tr>\n",
       "    <tr>\n",
       "      <th>96</th>\n",
       "      <td>92</td>\n",
       "      <td>149</td>\n",
       "      <td>123</td>\n",
       "    </tr>\n",
       "    <tr>\n",
       "      <th>97</th>\n",
       "      <td>46</td>\n",
       "      <td>129</td>\n",
       "      <td>72</td>\n",
       "    </tr>\n",
       "    <tr>\n",
       "      <th>98</th>\n",
       "      <td>32</td>\n",
       "      <td>69</td>\n",
       "      <td>124</td>\n",
       "    </tr>\n",
       "    <tr>\n",
       "      <th>99</th>\n",
       "      <td>143</td>\n",
       "      <td>113</td>\n",
       "      <td>8</td>\n",
       "    </tr>\n",
       "  </tbody>\n",
       "</table>\n",
       "</div>"
      ],
      "text/plain": [
       "    Math  English  Python\n",
       "95    27       61      55\n",
       "96    92      149     123\n",
       "97    46      129      72\n",
       "98    32       69     124\n",
       "99   143      113       8"
      ]
     },
     "execution_count": 10,
     "metadata": {},
     "output_type": "execute_result"
    }
   ],
   "source": [
    "# 显示后n行元素，默认 n = 5\n",
    "df.tail()"
   ]
  },
  {
   "cell_type": "code",
   "execution_count": 11,
   "metadata": {
    "ExecuteTime": {
     "end_time": "2021-04-23T06:48:37.218953Z",
     "start_time": "2021-04-23T06:48:37.204959Z"
    },
    "hidden": true
   },
   "outputs": [
    {
     "data": {
      "text/plain": [
       "Math       int32\n",
       "English    int32\n",
       "Python     int32\n",
       "dtype: object"
      ]
     },
     "execution_count": 11,
     "metadata": {},
     "output_type": "execute_result"
    }
   ],
   "source": [
    "# 查看数据类型\n",
    "df.dtypes"
   ]
  },
  {
   "cell_type": "code",
   "execution_count": 12,
   "metadata": {
    "ExecuteTime": {
     "end_time": "2021-04-23T06:48:37.233959Z",
     "start_time": "2021-04-23T06:48:37.220960Z"
    },
    "hidden": true
   },
   "outputs": [
    {
     "name": "stdout",
     "output_type": "stream",
     "text": [
      "<class 'pandas.core.frame.DataFrame'>\n",
      "RangeIndex: 100 entries, 0 to 99\n",
      "Data columns (total 3 columns):\n",
      " #   Column   Non-Null Count  Dtype\n",
      "---  ------   --------------  -----\n",
      " 0   Math     100 non-null    int32\n",
      " 1   English  100 non-null    int32\n",
      " 2   Python   100 non-null    int32\n",
      "dtypes: int32(3)\n",
      "memory usage: 1.3 KB\n"
     ]
    }
   ],
   "source": [
    "# 显示详细信息\n",
    "df.info()"
   ]
  },
  {
   "cell_type": "code",
   "execution_count": 13,
   "metadata": {
    "ExecuteTime": {
     "end_time": "2021-04-23T06:48:37.265967Z",
     "start_time": "2021-04-23T06:48:37.236957Z"
    },
    "hidden": true
   },
   "outputs": [
    {
     "data": {
      "text/html": [
       "<div>\n",
       "<style scoped>\n",
       "    .dataframe tbody tr th:only-of-type {\n",
       "        vertical-align: middle;\n",
       "    }\n",
       "\n",
       "    .dataframe tbody tr th {\n",
       "        vertical-align: top;\n",
       "    }\n",
       "\n",
       "    .dataframe thead th {\n",
       "        text-align: right;\n",
       "    }\n",
       "</style>\n",
       "<table border=\"1\" class=\"dataframe\">\n",
       "  <thead>\n",
       "    <tr style=\"text-align: right;\">\n",
       "      <th></th>\n",
       "      <th>Math</th>\n",
       "      <th>English</th>\n",
       "      <th>Python</th>\n",
       "    </tr>\n",
       "  </thead>\n",
       "  <tbody>\n",
       "    <tr>\n",
       "      <th>count</th>\n",
       "      <td>100.000000</td>\n",
       "      <td>100.000000</td>\n",
       "      <td>100.000000</td>\n",
       "    </tr>\n",
       "    <tr>\n",
       "      <th>mean</th>\n",
       "      <td>73.190000</td>\n",
       "      <td>74.340000</td>\n",
       "      <td>75.770000</td>\n",
       "    </tr>\n",
       "    <tr>\n",
       "      <th>std</th>\n",
       "      <td>45.354428</td>\n",
       "      <td>39.257817</td>\n",
       "      <td>42.267272</td>\n",
       "    </tr>\n",
       "    <tr>\n",
       "      <th>min</th>\n",
       "      <td>1.000000</td>\n",
       "      <td>0.000000</td>\n",
       "      <td>1.000000</td>\n",
       "    </tr>\n",
       "    <tr>\n",
       "      <th>25%</th>\n",
       "      <td>33.000000</td>\n",
       "      <td>48.000000</td>\n",
       "      <td>43.250000</td>\n",
       "    </tr>\n",
       "    <tr>\n",
       "      <th>50%</th>\n",
       "      <td>72.500000</td>\n",
       "      <td>69.500000</td>\n",
       "      <td>78.500000</td>\n",
       "    </tr>\n",
       "    <tr>\n",
       "      <th>75%</th>\n",
       "      <td>110.250000</td>\n",
       "      <td>105.250000</td>\n",
       "      <td>110.000000</td>\n",
       "    </tr>\n",
       "    <tr>\n",
       "      <th>max</th>\n",
       "      <td>149.000000</td>\n",
       "      <td>149.000000</td>\n",
       "      <td>150.000000</td>\n",
       "    </tr>\n",
       "  </tbody>\n",
       "</table>\n",
       "</div>"
      ],
      "text/plain": [
       "             Math     English      Python\n",
       "count  100.000000  100.000000  100.000000\n",
       "mean    73.190000   74.340000   75.770000\n",
       "std     45.354428   39.257817   42.267272\n",
       "min      1.000000    0.000000    1.000000\n",
       "25%     33.000000   48.000000   43.250000\n",
       "50%     72.500000   69.500000   78.500000\n",
       "75%    110.250000  105.250000  110.000000\n",
       "max    149.000000  149.000000  150.000000"
      ]
     },
     "execution_count": 13,
     "metadata": {},
     "output_type": "execute_result"
    }
   ],
   "source": [
    "# 描述：计数，平均数，标准差，最小资，1/4点，中位数（1/2）点，3/4点，最大值\n",
    "df.describe()"
   ]
  },
  {
   "cell_type": "code",
   "execution_count": 14,
   "metadata": {
    "ExecuteTime": {
     "end_time": "2021-04-23T06:48:37.281956Z",
     "start_time": "2021-04-23T06:48:37.267959Z"
    },
    "hidden": true
   },
   "outputs": [
    {
     "data": {
      "text/plain": [
       "array([[146,  92,   5],\n",
       "       [106,  93,  25],\n",
       "       [119, 135, 147],\n",
       "       [ 84,  69,   6],\n",
       "       [ 26,  71,  49],\n",
       "       [118,  24,  40],\n",
       "       [104,  65,  85],\n",
       "       [ 22,  48, 146],\n",
       "       [ 23,  32,  44],\n",
       "       [ 96,  91,  98],\n",
       "       [ 14,  67, 124],\n",
       "       [ 38,  71, 126],\n",
       "       [ 72, 111, 105],\n",
       "       [133,  84,   4],\n",
       "       [ 57,  14,  96],\n",
       "       [  5,  88,  85],\n",
       "       [ 63,  49,  38],\n",
       "       [134, 148,  60],\n",
       "       [ 33,  33, 126],\n",
       "       [106,  84,  76],\n",
       "       [  5,  73,  84],\n",
       "       [ 62, 114,  78],\n",
       "       [127,  61, 126],\n",
       "       [ 34, 114,  73],\n",
       "       [110,  39, 109],\n",
       "       [  5,  16,  50],\n",
       "       [104, 105,  67],\n",
       "       [ 53,  85,  44],\n",
       "       [  7,  60, 102],\n",
       "       [ 13,  48,  51],\n",
       "       [ 71, 103,  79],\n",
       "       [131,  64,  26],\n",
       "       [ 47,  59,  52],\n",
       "       [146, 122,  28],\n",
       "       [111,  38,  88],\n",
       "       [ 62,   2, 141],\n",
       "       [128,  92, 110],\n",
       "       [ 55,  63,  26],\n",
       "       [ 82,  62, 119],\n",
       "       [148,   6,  33],\n",
       "       [ 31, 116, 149],\n",
       "       [147,  66, 104],\n",
       "       [108, 144,  62],\n",
       "       [ 18,  87, 116],\n",
       "       [ 22, 136,  86],\n",
       "       [ 91, 126, 114],\n",
       "       [ 99,  35,  61],\n",
       "       [ 87, 135,  63],\n",
       "       [107,  95,  96],\n",
       "       [ 64,  78,  48],\n",
       "       [ 13,  41,  78],\n",
       "       [ 33, 143,   9],\n",
       "       [ 87,  49,   1],\n",
       "       [ 35,   0,  30],\n",
       "       [ 86,  68,  96],\n",
       "       [122,  53,  88],\n",
       "       [ 78, 120,  88],\n",
       "       [119, 118,  44],\n",
       "       [140,  51, 104],\n",
       "       [ 74,  67, 121],\n",
       "       [ 14, 112,   5],\n",
       "       [ 31,  62,  55],\n",
       "       [134,  68,  67],\n",
       "       [120,  27, 143],\n",
       "       [ 78, 127,   8],\n",
       "       [149,  11,  26],\n",
       "       [132,  25, 139],\n",
       "       [139,  57,  26],\n",
       "       [ 42,  79,  58],\n",
       "       [143,  19,  78],\n",
       "       [ 73,  87,  18],\n",
       "       [101,   4, 110],\n",
       "       [  8,   8, 137],\n",
       "       [ 64,  32,  12],\n",
       "       [ 76,  68,  66],\n",
       "       [111,  77, 111],\n",
       "       [  1, 147,  79],\n",
       "       [146,  77, 136],\n",
       "       [ 58,  58,  41],\n",
       "       [  8, 131,  79],\n",
       "       [101,  42,  89],\n",
       "       [124,   7, 147],\n",
       "       [  6,  94, 106],\n",
       "       [ 68,  60,  91],\n",
       "       [108, 129, 115],\n",
       "       [ 35, 115, 150],\n",
       "       [  7, 117,  36],\n",
       "       [ 27,  95,  31],\n",
       "       [ 81,  92,  79],\n",
       "       [ 33,  96, 124],\n",
       "       [ 56,  42,  85],\n",
       "       [ 46,   6,  27],\n",
       "       [ 42,  70,   5],\n",
       "       [  9, 106,  48],\n",
       "       [ 47,  43, 139],\n",
       "       [ 27,  61,  55],\n",
       "       [ 92, 149, 123],\n",
       "       [ 46, 129,  72],\n",
       "       [ 32,  69, 124],\n",
       "       [143, 113,   8]])"
      ]
     },
     "execution_count": 14,
     "metadata": {},
     "output_type": "execute_result"
    }
   ],
   "source": [
    "# 值，返回的是NumPy数组\n",
    "df.values"
   ]
  },
  {
   "cell_type": "code",
   "execution_count": 15,
   "metadata": {
    "ExecuteTime": {
     "end_time": "2021-04-23T06:48:37.297955Z",
     "start_time": "2021-04-23T06:48:37.283959Z"
    },
    "hidden": true
   },
   "outputs": [
    {
     "data": {
      "text/plain": [
       "Index(['Math', 'English', 'Python'], dtype='object')"
      ]
     },
     "execution_count": 15,
     "metadata": {},
     "output_type": "execute_result"
    }
   ],
   "source": [
    "# 列索引\n",
    "df.columns"
   ]
  },
  {
   "cell_type": "code",
   "execution_count": 16,
   "metadata": {
    "ExecuteTime": {
     "end_time": "2021-04-23T06:48:37.313966Z",
     "start_time": "2021-04-23T06:48:37.299958Z"
    },
    "hidden": true
   },
   "outputs": [
    {
     "data": {
      "text/plain": [
       "RangeIndex(start=0, stop=100, step=1)"
      ]
     },
     "execution_count": 16,
     "metadata": {},
     "output_type": "execute_result"
    }
   ],
   "source": [
    "# 行索引\n",
    "df.index"
   ]
  },
  {
   "cell_type": "markdown",
   "metadata": {},
   "source": [
    "### 数据输入与输出"
   ]
  },
  {
   "cell_type": "markdown",
   "metadata": {
    "heading_collapsed": true
   },
   "source": [
    "#### CSV "
   ]
  },
  {
   "cell_type": "code",
   "execution_count": 17,
   "metadata": {
    "ExecuteTime": {
     "end_time": "2021-04-23T06:48:37.329961Z",
     "start_time": "2021-04-23T06:48:37.316960Z"
    },
    "hidden": true
   },
   "outputs": [
    {
     "data": {
      "text/html": [
       "<div>\n",
       "<style scoped>\n",
       "    .dataframe tbody tr th:only-of-type {\n",
       "        vertical-align: middle;\n",
       "    }\n",
       "\n",
       "    .dataframe tbody tr th {\n",
       "        vertical-align: top;\n",
       "    }\n",
       "\n",
       "    .dataframe thead th {\n",
       "        text-align: right;\n",
       "    }\n",
       "</style>\n",
       "<table border=\"1\" class=\"dataframe\">\n",
       "  <thead>\n",
       "    <tr style=\"text-align: right;\">\n",
       "      <th></th>\n",
       "      <th>Python</th>\n",
       "      <th>Math</th>\n",
       "      <th>En</th>\n",
       "    </tr>\n",
       "  </thead>\n",
       "  <tbody>\n",
       "    <tr>\n",
       "      <th>0</th>\n",
       "      <td>63</td>\n",
       "      <td>42</td>\n",
       "      <td>43</td>\n",
       "    </tr>\n",
       "    <tr>\n",
       "      <th>1</th>\n",
       "      <td>42</td>\n",
       "      <td>77</td>\n",
       "      <td>136</td>\n",
       "    </tr>\n",
       "    <tr>\n",
       "      <th>2</th>\n",
       "      <td>24</td>\n",
       "      <td>96</td>\n",
       "      <td>98</td>\n",
       "    </tr>\n",
       "    <tr>\n",
       "      <th>3</th>\n",
       "      <td>88</td>\n",
       "      <td>147</td>\n",
       "      <td>76</td>\n",
       "    </tr>\n",
       "    <tr>\n",
       "      <th>4</th>\n",
       "      <td>137</td>\n",
       "      <td>96</td>\n",
       "      <td>141</td>\n",
       "    </tr>\n",
       "    <tr>\n",
       "      <th>...</th>\n",
       "      <td>...</td>\n",
       "      <td>...</td>\n",
       "      <td>...</td>\n",
       "    </tr>\n",
       "    <tr>\n",
       "      <th>95</th>\n",
       "      <td>14</td>\n",
       "      <td>129</td>\n",
       "      <td>18</td>\n",
       "    </tr>\n",
       "    <tr>\n",
       "      <th>96</th>\n",
       "      <td>119</td>\n",
       "      <td>92</td>\n",
       "      <td>59</td>\n",
       "    </tr>\n",
       "    <tr>\n",
       "      <th>97</th>\n",
       "      <td>59</td>\n",
       "      <td>88</td>\n",
       "      <td>56</td>\n",
       "    </tr>\n",
       "    <tr>\n",
       "      <th>98</th>\n",
       "      <td>25</td>\n",
       "      <td>61</td>\n",
       "      <td>54</td>\n",
       "    </tr>\n",
       "    <tr>\n",
       "      <th>99</th>\n",
       "      <td>26</td>\n",
       "      <td>136</td>\n",
       "      <td>47</td>\n",
       "    </tr>\n",
       "  </tbody>\n",
       "</table>\n",
       "<p>100 rows × 3 columns</p>\n",
       "</div>"
      ],
      "text/plain": [
       "    Python  Math   En\n",
       "0       63    42   43\n",
       "1       42    77  136\n",
       "2       24    96   98\n",
       "3       88   147   76\n",
       "4      137    96  141\n",
       "..     ...   ...  ...\n",
       "95      14   129   18\n",
       "96     119    92   59\n",
       "97      59    88   56\n",
       "98      25    61   54\n",
       "99      26   136   47\n",
       "\n",
       "[100 rows x 3 columns]"
      ]
     },
     "execution_count": 17,
     "metadata": {},
     "output_type": "execute_result"
    }
   ],
   "source": [
    "df = pd.DataFrame(data  = np.random.randint(0,151,size=(100,3)),columns=[\"Python\",\"Math\",\"En\"])\n",
    "df"
   ]
  },
  {
   "cell_type": "code",
   "execution_count": 18,
   "metadata": {
    "ExecuteTime": {
     "end_time": "2021-04-23T06:48:37.344961Z",
     "start_time": "2021-04-23T06:48:37.332959Z"
    },
    "hidden": true
   },
   "outputs": [],
   "source": [
    "df.to_csv(\"C:/Users/dreed/Desktop/pandas_data.csv\",\n",
    "          sep = \",\", # 保存分隔符\n",
    "          index = True, # 保存行索引\n",
    "          header = True # 保存列索引\n",
    "         )"
   ]
  },
  {
   "cell_type": "code",
   "execution_count": 19,
   "metadata": {
    "ExecuteTime": {
     "end_time": "2021-04-23T06:48:37.360957Z",
     "start_time": "2021-04-23T06:48:37.346960Z"
    },
    "hidden": true
   },
   "outputs": [
    {
     "data": {
      "text/html": [
       "<div>\n",
       "<style scoped>\n",
       "    .dataframe tbody tr th:only-of-type {\n",
       "        vertical-align: middle;\n",
       "    }\n",
       "\n",
       "    .dataframe tbody tr th {\n",
       "        vertical-align: top;\n",
       "    }\n",
       "\n",
       "    .dataframe thead th {\n",
       "        text-align: right;\n",
       "    }\n",
       "</style>\n",
       "<table border=\"1\" class=\"dataframe\">\n",
       "  <thead>\n",
       "    <tr style=\"text-align: right;\">\n",
       "      <th></th>\n",
       "      <th>Python</th>\n",
       "      <th>Math</th>\n",
       "      <th>En</th>\n",
       "    </tr>\n",
       "  </thead>\n",
       "  <tbody>\n",
       "    <tr>\n",
       "      <th>0</th>\n",
       "      <td>63</td>\n",
       "      <td>42</td>\n",
       "      <td>43</td>\n",
       "    </tr>\n",
       "    <tr>\n",
       "      <th>1</th>\n",
       "      <td>42</td>\n",
       "      <td>77</td>\n",
       "      <td>136</td>\n",
       "    </tr>\n",
       "    <tr>\n",
       "      <th>2</th>\n",
       "      <td>24</td>\n",
       "      <td>96</td>\n",
       "      <td>98</td>\n",
       "    </tr>\n",
       "    <tr>\n",
       "      <th>3</th>\n",
       "      <td>88</td>\n",
       "      <td>147</td>\n",
       "      <td>76</td>\n",
       "    </tr>\n",
       "    <tr>\n",
       "      <th>4</th>\n",
       "      <td>137</td>\n",
       "      <td>96</td>\n",
       "      <td>141</td>\n",
       "    </tr>\n",
       "    <tr>\n",
       "      <th>...</th>\n",
       "      <td>...</td>\n",
       "      <td>...</td>\n",
       "      <td>...</td>\n",
       "    </tr>\n",
       "    <tr>\n",
       "      <th>95</th>\n",
       "      <td>14</td>\n",
       "      <td>129</td>\n",
       "      <td>18</td>\n",
       "    </tr>\n",
       "    <tr>\n",
       "      <th>96</th>\n",
       "      <td>119</td>\n",
       "      <td>92</td>\n",
       "      <td>59</td>\n",
       "    </tr>\n",
       "    <tr>\n",
       "      <th>97</th>\n",
       "      <td>59</td>\n",
       "      <td>88</td>\n",
       "      <td>56</td>\n",
       "    </tr>\n",
       "    <tr>\n",
       "      <th>98</th>\n",
       "      <td>25</td>\n",
       "      <td>61</td>\n",
       "      <td>54</td>\n",
       "    </tr>\n",
       "    <tr>\n",
       "      <th>99</th>\n",
       "      <td>26</td>\n",
       "      <td>136</td>\n",
       "      <td>47</td>\n",
       "    </tr>\n",
       "  </tbody>\n",
       "</table>\n",
       "<p>100 rows × 3 columns</p>\n",
       "</div>"
      ],
      "text/plain": [
       "    Python  Math   En\n",
       "0       63    42   43\n",
       "1       42    77  136\n",
       "2       24    96   98\n",
       "3       88   147   76\n",
       "4      137    96  141\n",
       "..     ...   ...  ...\n",
       "95      14   129   18\n",
       "96     119    92   59\n",
       "97      59    88   56\n",
       "98      25    61   54\n",
       "99      26   136   47\n",
       "\n",
       "[100 rows x 3 columns]"
      ]
     },
     "execution_count": 19,
     "metadata": {},
     "output_type": "execute_result"
    }
   ],
   "source": [
    "pd.read_csv(\"C:/Users/dreed/Desktop/pandas_data.csv\",\n",
    "            index_col=0, # 设置第一列为行索引\n",
    "            header=0 # 设置第一行为列索引\n",
    "         \n",
    ")"
   ]
  },
  {
   "cell_type": "markdown",
   "metadata": {
    "heading_collapsed": true
   },
   "source": [
    "#### Excel"
   ]
  },
  {
   "cell_type": "code",
   "execution_count": 20,
   "metadata": {
    "ExecuteTime": {
     "end_time": "2021-04-23T06:48:37.979054Z",
     "start_time": "2021-04-23T06:48:37.362964Z"
    },
    "hidden": true
   },
   "outputs": [],
   "source": [
    "# 导出Excel文件，xls格式需要导入xlwt模块，xlsx格式需要导入openpyxl\n",
    "df.to_excel(\"C:/Users/dreed/Desktop/pandas_data.xlsx\")"
   ]
  },
  {
   "cell_type": "code",
   "execution_count": 21,
   "metadata": {
    "ExecuteTime": {
     "end_time": "2021-04-23T06:48:38.043052Z",
     "start_time": "2021-04-23T06:48:37.981053Z"
    },
    "hidden": true
   },
   "outputs": [
    {
     "data": {
      "text/html": [
       "<div>\n",
       "<style scoped>\n",
       "    .dataframe tbody tr th:only-of-type {\n",
       "        vertical-align: middle;\n",
       "    }\n",
       "\n",
       "    .dataframe tbody tr th {\n",
       "        vertical-align: top;\n",
       "    }\n",
       "\n",
       "    .dataframe thead th {\n",
       "        text-align: right;\n",
       "    }\n",
       "</style>\n",
       "<table border=\"1\" class=\"dataframe\">\n",
       "  <thead>\n",
       "    <tr style=\"text-align: right;\">\n",
       "      <th></th>\n",
       "      <th>Python</th>\n",
       "      <th>Math</th>\n",
       "      <th>En</th>\n",
       "    </tr>\n",
       "  </thead>\n",
       "  <tbody>\n",
       "    <tr>\n",
       "      <th>0</th>\n",
       "      <td>63</td>\n",
       "      <td>42</td>\n",
       "      <td>43</td>\n",
       "    </tr>\n",
       "    <tr>\n",
       "      <th>1</th>\n",
       "      <td>42</td>\n",
       "      <td>77</td>\n",
       "      <td>136</td>\n",
       "    </tr>\n",
       "    <tr>\n",
       "      <th>2</th>\n",
       "      <td>24</td>\n",
       "      <td>96</td>\n",
       "      <td>98</td>\n",
       "    </tr>\n",
       "    <tr>\n",
       "      <th>3</th>\n",
       "      <td>88</td>\n",
       "      <td>147</td>\n",
       "      <td>76</td>\n",
       "    </tr>\n",
       "    <tr>\n",
       "      <th>4</th>\n",
       "      <td>137</td>\n",
       "      <td>96</td>\n",
       "      <td>141</td>\n",
       "    </tr>\n",
       "    <tr>\n",
       "      <th>...</th>\n",
       "      <td>...</td>\n",
       "      <td>...</td>\n",
       "      <td>...</td>\n",
       "    </tr>\n",
       "    <tr>\n",
       "      <th>95</th>\n",
       "      <td>14</td>\n",
       "      <td>129</td>\n",
       "      <td>18</td>\n",
       "    </tr>\n",
       "    <tr>\n",
       "      <th>96</th>\n",
       "      <td>119</td>\n",
       "      <td>92</td>\n",
       "      <td>59</td>\n",
       "    </tr>\n",
       "    <tr>\n",
       "      <th>97</th>\n",
       "      <td>59</td>\n",
       "      <td>88</td>\n",
       "      <td>56</td>\n",
       "    </tr>\n",
       "    <tr>\n",
       "      <th>98</th>\n",
       "      <td>25</td>\n",
       "      <td>61</td>\n",
       "      <td>54</td>\n",
       "    </tr>\n",
       "    <tr>\n",
       "      <th>99</th>\n",
       "      <td>26</td>\n",
       "      <td>136</td>\n",
       "      <td>47</td>\n",
       "    </tr>\n",
       "  </tbody>\n",
       "</table>\n",
       "<p>100 rows × 3 columns</p>\n",
       "</div>"
      ],
      "text/plain": [
       "    Python  Math   En\n",
       "0       63    42   43\n",
       "1       42    77  136\n",
       "2       24    96   98\n",
       "3       88   147   76\n",
       "4      137    96  141\n",
       "..     ...   ...  ...\n",
       "95      14   129   18\n",
       "96     119    92   59\n",
       "97      59    88   56\n",
       "98      25    61   54\n",
       "99      26   136   47\n",
       "\n",
       "[100 rows x 3 columns]"
      ]
     },
     "execution_count": 21,
     "metadata": {},
     "output_type": "execute_result"
    }
   ],
   "source": [
    "pd.read_excel(\"C:/Users/dreed/Desktop/pandas_data.xlsx\",\n",
    "    index_col = 0, # 设置行索引\n",
    "    header = 0 # 设置列索引   \n",
    "             )"
   ]
  },
  {
   "cell_type": "markdown",
   "metadata": {
    "ExecuteTime": {
     "end_time": "2021-04-20T09:53:41.354607Z",
     "start_time": "2021-04-20T09:53:41.349440Z"
    }
   },
   "source": [
    "#### HDF5"
   ]
  },
  {
   "cell_type": "code",
   "execution_count": 22,
   "metadata": {
    "ExecuteTime": {
     "end_time": "2021-04-23T06:48:38.106056Z",
     "start_time": "2021-04-23T06:48:38.045055Z"
    }
   },
   "outputs": [
    {
     "ename": "TypeError",
     "evalue": "to_hdf() missing 1 required positional argument: 'key'",
     "output_type": "error",
     "traceback": [
      "\u001b[1;31m---------------------------------------------------------------------------\u001b[0m",
      "\u001b[1;31mTypeError\u001b[0m                                 Traceback (most recent call last)",
      "\u001b[1;32m<ipython-input-22-46b8619d7bef>\u001b[0m in \u001b[0;36m<module>\u001b[1;34m\u001b[0m\n\u001b[0;32m      1\u001b[0m \u001b[1;31m# 需要引入tables这个包\u001b[0m\u001b[1;33m\u001b[0m\u001b[1;33m\u001b[0m\u001b[1;33m\u001b[0m\u001b[0m\n\u001b[1;32m----> 2\u001b[1;33m \u001b[0mdf\u001b[0m\u001b[1;33m.\u001b[0m\u001b[0mto_hdf\u001b[0m\u001b[1;33m(\u001b[0m\u001b[1;34m\"C:/Users/dreed/Desktop/pandas_data.df5\"\u001b[0m\u001b[1;33m)\u001b[0m\u001b[1;33m\u001b[0m\u001b[1;33m\u001b[0m\u001b[0m\n\u001b[0m",
      "\u001b[1;31mTypeError\u001b[0m: to_hdf() missing 1 required positional argument: 'key'"
     ]
    }
   ],
   "source": [
    "# 需要引入tables这个包\n",
    "df.to_hdf(\"C:/Users/dreed/Desktop/pandas_data.df5\")"
   ]
  },
  {
   "cell_type": "markdown",
   "metadata": {},
   "source": [
    "#### SQL"
   ]
  },
  {
   "cell_type": "markdown",
   "metadata": {
    "ExecuteTime": {
     "end_time": "2021-04-21T07:15:09.565478Z",
     "start_time": "2021-04-21T07:15:09.556184Z"
    }
   },
   "source": [
    "### 数据选取"
   ]
  },
  {
   "cell_type": "markdown",
   "metadata": {
    "ExecuteTime": {
     "end_time": "2021-04-21T07:15:46.320115Z",
     "start_time": "2021-04-21T07:15:46.303882Z"
    }
   },
   "source": [
    "#### 获取数据 "
   ]
  },
  {
   "cell_type": "code",
   "execution_count": null,
   "metadata": {
    "ExecuteTime": {
     "end_time": "2021-04-23T06:48:38.110051Z",
     "start_time": "2021-04-23T06:48:36.832Z"
    }
   },
   "outputs": [],
   "source": [
    "df = pd.DataFrame(data = np.random.randint(0,151,size = (26,3)),index=list(\"ABCDEFGHIJKLMNOPQRSTUVWXYZ\"),columns = [\"Python\",\"Java\",\"Groovy\"])\n",
    "df"
   ]
  },
  {
   "cell_type": "code",
   "execution_count": null,
   "metadata": {
    "ExecuteTime": {
     "end_time": "2021-04-23T06:48:38.111054Z",
     "start_time": "2021-04-23T06:48:36.836Z"
    }
   },
   "outputs": [],
   "source": [
    "df.Python"
   ]
  },
  {
   "cell_type": "code",
   "execution_count": null,
   "metadata": {
    "ExecuteTime": {
     "end_time": "2021-04-23T06:48:38.113054Z",
     "start_time": "2021-04-23T06:48:36.839Z"
    }
   },
   "outputs": [],
   "source": [
    "df[\"Python\"]"
   ]
  },
  {
   "cell_type": "code",
   "execution_count": null,
   "metadata": {
    "ExecuteTime": {
     "end_time": "2021-04-23T06:48:38.114056Z",
     "start_time": "2021-04-23T06:48:36.843Z"
    }
   },
   "outputs": [],
   "source": [
    "df['A'::2]"
   ]
  },
  {
   "cell_type": "code",
   "execution_count": null,
   "metadata": {
    "ExecuteTime": {
     "end_time": "2021-04-23T06:48:38.116057Z",
     "start_time": "2021-04-23T06:48:36.846Z"
    }
   },
   "outputs": [],
   "source": [
    "df[['Python',\"Java\"]]"
   ]
  },
  {
   "cell_type": "markdown",
   "metadata": {
    "ExecuteTime": {
     "end_time": "2021-04-21T07:23:01.923498Z",
     "start_time": "2021-04-21T07:23:01.914357Z"
    }
   },
   "source": [
    "#### 标签获取"
   ]
  },
  {
   "cell_type": "code",
   "execution_count": null,
   "metadata": {
    "ExecuteTime": {
     "end_time": "2021-04-23T06:48:38.117055Z",
     "start_time": "2021-04-23T06:48:36.850Z"
    }
   },
   "outputs": [],
   "source": [
    "df.loc['A'::2,'Python'::2]"
   ]
  },
  {
   "cell_type": "code",
   "execution_count": null,
   "metadata": {
    "ExecuteTime": {
     "end_time": "2021-04-23T06:48:38.119055Z",
     "start_time": "2021-04-23T06:48:36.855Z"
    }
   },
   "outputs": [],
   "source": [
    "df.loc[list(\"ABC\"),['Python','Java']]"
   ]
  },
  {
   "cell_type": "markdown",
   "metadata": {},
   "source": [
    "#### 位置获取"
   ]
  },
  {
   "cell_type": "code",
   "execution_count": null,
   "metadata": {
    "ExecuteTime": {
     "end_time": "2021-04-23T06:48:38.120054Z",
     "start_time": "2021-04-23T06:48:36.859Z"
    }
   },
   "outputs": [],
   "source": [
    "df.iloc[0::5,1:]"
   ]
  },
  {
   "cell_type": "markdown",
   "metadata": {
    "ExecuteTime": {
     "end_time": "2021-04-21T07:27:48.481678Z",
     "start_time": "2021-04-21T07:27:48.472628Z"
    }
   },
   "source": [
    "#### boolean索引"
   ]
  },
  {
   "cell_type": "code",
   "execution_count": null,
   "metadata": {
    "ExecuteTime": {
     "end_time": "2021-04-23T06:48:38.121055Z",
     "start_time": "2021-04-23T06:48:36.864Z"
    }
   },
   "outputs": [],
   "source": [
    "cond = df.Python > 80\n",
    "df[cond]"
   ]
  },
  {
   "cell_type": "code",
   "execution_count": null,
   "metadata": {
    "ExecuteTime": {
     "end_time": "2021-04-23T06:48:38.122057Z",
     "start_time": "2021-04-23T06:48:36.868Z"
    }
   },
   "outputs": [],
   "source": [
    "cond = df.mean(axis = 1) > 75\n",
    "df[cond]"
   ]
  },
  {
   "cell_type": "code",
   "execution_count": null,
   "metadata": {
    "ExecuteTime": {
     "end_time": "2021-04-23T06:48:38.124054Z",
     "start_time": "2021-04-23T06:48:36.873Z"
    }
   },
   "outputs": [],
   "source": [
    "cond = (df.Python > 80) & (df.Java > 100)\n",
    "df[cond]"
   ]
  },
  {
   "cell_type": "code",
   "execution_count": null,
   "metadata": {
    "ExecuteTime": {
     "end_time": "2021-04-23T06:48:38.126055Z",
     "start_time": "2021-04-23T06:48:36.877Z"
    }
   },
   "outputs": [],
   "source": [
    "cond = df.index.isin(list(\"XYZMNPQ\"))\n",
    "df[cond]"
   ]
  },
  {
   "cell_type": "markdown",
   "metadata": {},
   "source": [
    "#### 赋值操作"
   ]
  },
  {
   "cell_type": "code",
   "execution_count": null,
   "metadata": {
    "ExecuteTime": {
     "end_time": "2021-04-23T06:48:38.127051Z",
     "start_time": "2021-04-23T06:48:36.881Z"
    }
   },
   "outputs": [],
   "source": [
    "# 修改对应位置上的数据\n",
    "df[\"Python\"][\"A\"] = 150\n",
    "df"
   ]
  },
  {
   "cell_type": "code",
   "execution_count": null,
   "metadata": {
    "ExecuteTime": {
     "end_time": "2021-04-23T06:48:38.129055Z",
     "start_time": "2021-04-23T06:48:36.884Z"
    }
   },
   "outputs": [],
   "source": [
    "# 新添加一列\n",
    "df['Scala'] = np.random.randint(0,151,size = 26)\n",
    "df"
   ]
  },
  {
   "cell_type": "code",
   "execution_count": null,
   "metadata": {
    "ExecuteTime": {
     "end_time": "2021-04-23T06:48:38.130056Z",
     "start_time": "2021-04-23T06:48:36.887Z"
    }
   },
   "outputs": [],
   "source": [
    "df.loc[list(\"ABC\"),\"Groovy\"] = 100\n",
    "df"
   ]
  },
  {
   "cell_type": "code",
   "execution_count": null,
   "metadata": {
    "ExecuteTime": {
     "end_time": "2021-04-23T06:48:38.131056Z",
     "start_time": "2021-04-23T06:48:36.891Z"
    }
   },
   "outputs": [],
   "source": [
    "cond = df < 60\n",
    "df[cond] = 60\n",
    "df"
   ]
  },
  {
   "cell_type": "markdown",
   "metadata": {},
   "source": [
    "### 数据集成"
   ]
  },
  {
   "cell_type": "markdown",
   "metadata": {
    "ExecuteTime": {
     "end_time": "2021-04-21T07:53:08.643665Z",
     "start_time": "2021-04-21T07:53:08.638992Z"
    }
   },
   "source": [
    "#### concat数据串联"
   ]
  },
  {
   "cell_type": "code",
   "execution_count": null,
   "metadata": {
    "ExecuteTime": {
     "end_time": "2021-04-23T06:48:38.132057Z",
     "start_time": "2021-04-23T06:48:36.896Z"
    }
   },
   "outputs": [],
   "source": [
    "# np.concatenate NumPy数据串联\n",
    "columns = [\"Python\",\"Java\",\"Groovy\"]\n",
    "df1 = pd.DataFrame(np.random.randint(0,151,size = (5,3)),index=list(\"ABCDE\"),columns=columns)\n",
    "df2 = pd.DataFrame(np.random.randint(0,151,size = (5,3)),index=list(\"MNXYZ\"),columns=columns)\n",
    "df3 = pd.DataFrame(np.random.randint(0,151,size = (5,2)),index=list(\"PQIJK\"),columns=[\"Shell\",\"Scala\"])\n",
    "display(df1,df2,df3)"
   ]
  },
  {
   "cell_type": "code",
   "execution_count": null,
   "metadata": {
    "ExecuteTime": {
     "end_time": "2021-04-23T06:48:38.134052Z",
     "start_time": "2021-04-23T06:48:36.903Z"
    }
   },
   "outputs": [],
   "source": [
    "pd.concat([df1,df2],axis=0)"
   ]
  },
  {
   "cell_type": "code",
   "execution_count": null,
   "metadata": {
    "ExecuteTime": {
     "end_time": "2021-04-23T06:48:38.135056Z",
     "start_time": "2021-04-23T06:48:36.906Z"
    }
   },
   "outputs": [],
   "source": [
    "pd.concat([df1,df3],axis=1)"
   ]
  },
  {
   "cell_type": "markdown",
   "metadata": {
    "ExecuteTime": {
     "end_time": "2021-04-21T08:04:09.341521Z",
     "start_time": "2021-04-21T08:04:09.335525Z"
    }
   },
   "source": [
    "#### 数据插入"
   ]
  },
  {
   "cell_type": "code",
   "execution_count": null,
   "metadata": {
    "ExecuteTime": {
     "end_time": "2021-04-23T06:48:38.136055Z",
     "start_time": "2021-04-23T06:48:36.911Z"
    },
    "scrolled": true
   },
   "outputs": [],
   "source": [
    "# 插入一列数据\n",
    "df1.insert(loc = 1,column = \"C++\",value = np.random.randint(0,151,size = 5))\n",
    "df1"
   ]
  },
  {
   "cell_type": "code",
   "execution_count": null,
   "metadata": {
    "ExecuteTime": {
     "end_time": "2021-04-23T06:48:38.138051Z",
     "start_time": "2021-04-23T06:48:36.915Z"
    }
   },
   "outputs": [],
   "source": [
    "# 插入行数据\n",
    "df1.append(df2)"
   ]
  },
  {
   "cell_type": "markdown",
   "metadata": {},
   "source": [
    "#### JOIN SQL风格合并"
   ]
  },
  {
   "cell_type": "code",
   "execution_count": null,
   "metadata": {
    "ExecuteTime": {
     "end_time": "2021-04-23T06:48:38.139057Z",
     "start_time": "2021-04-23T06:48:36.923Z"
    }
   },
   "outputs": [],
   "source": [
    "df1 = pd.DataFrame(data = {\"name\":[\"张三\",\"李四\",\"王五\",\"赵六\"],\"height\":[175,172,169,183]})\n",
    "df2 = pd.DataFrame(data = {\"name\":[\"张三\",\"李四\",\"王五\",\"安康\"],\"weight\":[150,132,90,120]})\n",
    "df3 = pd.DataFrame(data = {\"名字\":[\"张三\",\"李四\",\"王五\",\"安康\"],\"salary\":[12000,18000,8000,30000]})\n",
    "display(df1,df2,df3)"
   ]
  },
  {
   "cell_type": "code",
   "execution_count": null,
   "metadata": {
    "ExecuteTime": {
     "end_time": "2021-04-23T06:48:38.140055Z",
     "start_time": "2021-04-23T06:48:36.929Z"
    }
   },
   "outputs": [],
   "source": [
    "# 根据共同的属性合并数据\n",
    "# df1 和 df2 共同属性：name\n",
    "# 数据库，合并join，共同key\n",
    "pd.merge(df1,df2) "
   ]
  },
  {
   "cell_type": "code",
   "execution_count": null,
   "metadata": {
    "ExecuteTime": {
     "end_time": "2021-04-23T06:48:38.142055Z",
     "start_time": "2021-04-23T06:48:36.934Z"
    }
   },
   "outputs": [],
   "source": [
    "# how 设置合并方式：left、right、outer、inner、cross，默认：inner\n",
    "pd.merge(df1,df2,how=\"outer\") "
   ]
  },
  {
   "cell_type": "code",
   "execution_count": null,
   "metadata": {
    "ExecuteTime": {
     "end_time": "2021-04-23T06:48:38.143054Z",
     "start_time": "2021-04-23T06:48:36.938Z"
    },
    "scrolled": true
   },
   "outputs": [],
   "source": [
    "# 指定关联条件\n",
    "pd.merge(df2,df3,left_on='name',right_on='名字')"
   ]
  },
  {
   "cell_type": "code",
   "execution_count": null,
   "metadata": {
    "ExecuteTime": {
     "end_time": "2021-04-23T06:48:38.144052Z",
     "start_time": "2021-04-23T06:48:36.942Z"
    }
   },
   "outputs": [],
   "source": [
    "df4 = pd.DataFrame(data = np.random.randint(0,151,size = (8,3)),index=list(\"ABCDEFGH\"),columns=[\"Python\",\"Math\",\"Shell\"])\n",
    "df4"
   ]
  },
  {
   "cell_type": "code",
   "execution_count": null,
   "metadata": {
    "ExecuteTime": {
     "end_time": "2021-04-23T06:48:38.146055Z",
     "start_time": "2021-04-23T06:48:36.946Z"
    }
   },
   "outputs": [],
   "source": [
    "score_mean = df4.mean(axis=1).round(2)\n",
    "\n",
    "df4.insert(loc = df4.shape[1],column=\"avg_score\",value=score_mean)\n",
    "df4"
   ]
  },
  {
   "cell_type": "markdown",
   "metadata": {
    "ExecuteTime": {
     "end_time": "2021-04-21T08:49:58.185908Z",
     "start_time": "2021-04-21T08:49:58.177154Z"
    }
   },
   "source": [
    "### 数据清洗"
   ]
  },
  {
   "cell_type": "code",
   "execution_count": null,
   "metadata": {
    "ExecuteTime": {
     "end_time": "2021-04-23T06:48:38.147054Z",
     "start_time": "2021-04-23T06:48:36.951Z"
    }
   },
   "outputs": [],
   "source": [
    "df = pd.DataFrame(data = {\"color\":[\"red\",\"green\",\"blue\",\"blue\",\"red\",None,np.NaN,\"green\",\"blue\"],\"price\":[18,20,22,22,30,15,15,43,57]})\n",
    "df"
   ]
  },
  {
   "cell_type": "code",
   "execution_count": null,
   "metadata": {
    "ExecuteTime": {
     "end_time": "2021-04-23T06:48:38.148054Z",
     "start_time": "2021-04-23T06:48:36.965Z"
    }
   },
   "outputs": [],
   "source": [
    "# 删除重复数据,NaN和None是一回事\n",
    "df.drop_duplicates()"
   ]
  },
  {
   "cell_type": "code",
   "execution_count": null,
   "metadata": {
    "ExecuteTime": {
     "end_time": "2021-04-23T06:48:38.149055Z",
     "start_time": "2021-04-23T06:48:36.971Z"
    }
   },
   "outputs": [],
   "source": [
    "# 删除空数据\n",
    "df.dropna()"
   ]
  },
  {
   "cell_type": "code",
   "execution_count": null,
   "metadata": {
    "ExecuteTime": {
     "end_time": "2021-04-23T06:48:38.151052Z",
     "start_time": "2021-04-23T06:48:36.975Z"
    }
   },
   "outputs": [],
   "source": [
    "# 删除行\n",
    "df.drop(index=[0,2,4,6,8])"
   ]
  },
  {
   "cell_type": "code",
   "execution_count": null,
   "metadata": {
    "ExecuteTime": {
     "end_time": "2021-04-23T06:48:38.155056Z",
     "start_time": "2021-04-23T06:48:36.982Z"
    }
   },
   "outputs": [],
   "source": [
    "# 删除列\n",
    "df.drop(columns='price')"
   ]
  },
  {
   "cell_type": "code",
   "execution_count": null,
   "metadata": {
    "ExecuteTime": {
     "end_time": "2021-04-23T06:48:38.156054Z",
     "start_time": "2021-04-23T06:48:36.986Z"
    }
   },
   "outputs": [],
   "source": [
    "# filter过滤数据\n",
    "df.filter(items=['color'],axis=1)"
   ]
  },
  {
   "cell_type": "code",
   "execution_count": null,
   "metadata": {
    "ExecuteTime": {
     "end_time": "2021-04-23T06:48:38.158053Z",
     "start_time": "2021-04-23T06:48:36.990Z"
    }
   },
   "outputs": [],
   "source": [
    "df['size'] = 1024 # 广播\n",
    "df"
   ]
  },
  {
   "cell_type": "code",
   "execution_count": null,
   "metadata": {
    "ExecuteTime": {
     "end_time": "2021-04-23T06:48:38.159054Z",
     "start_time": "2021-04-23T06:48:36.994Z"
    }
   },
   "outputs": [],
   "source": [
    "# 模糊匹配，保留带i的列\n",
    "df.filter(like='i')"
   ]
  },
  {
   "cell_type": "code",
   "execution_count": null,
   "metadata": {
    "ExecuteTime": {
     "end_time": "2021-04-23T06:48:38.161056Z",
     "start_time": "2021-04-23T06:48:36.998Z"
    }
   },
   "outputs": [],
   "source": [
    "# 使用正则表达式过滤\n",
    "df.filter(regex=\"r$\")"
   ]
  },
  {
   "cell_type": "code",
   "execution_count": null,
   "metadata": {
    "ExecuteTime": {
     "end_time": "2021-04-23T06:48:38.162056Z",
     "start_time": "2021-04-23T06:48:37.001Z"
    }
   },
   "outputs": [],
   "source": [
    "# 异常值过滤\n",
    "a = np.random.randint(0,1000,size = 200)\n",
    "display(a)\n",
    "cond = (a <= 800) & (a >= 100)\n",
    "a[cond]"
   ]
  },
  {
   "cell_type": "code",
   "execution_count": null,
   "metadata": {
    "ExecuteTime": {
     "end_time": "2021-04-23T06:48:38.164057Z",
     "start_time": "2021-04-23T06:48:37.004Z"
    },
    "scrolled": true
   },
   "outputs": [],
   "source": [
    "# 正态分布，平均值：0，标准差：1\n",
    "b = np.random.randn(10000)\n",
    "b"
   ]
  },
  {
   "cell_type": "code",
   "execution_count": null,
   "metadata": {
    "ExecuteTime": {
     "end_time": "2021-04-23T06:48:38.165056Z",
     "start_time": "2021-04-23T06:48:37.007Z"
    }
   },
   "outputs": [],
   "source": [
    "cond = np.abs(b) > 3 * 1\n",
    "b[cond]"
   ]
  },
  {
   "cell_type": "markdown",
   "metadata": {
    "ExecuteTime": {
     "end_time": "2021-04-21T12:40:03.462477Z",
     "start_time": "2021-04-21T12:40:03.449690Z"
    }
   },
   "source": [
    "### 数据转换"
   ]
  },
  {
   "cell_type": "markdown",
   "metadata": {},
   "source": [
    "#### 轴和袁术转换"
   ]
  },
  {
   "cell_type": "code",
   "execution_count": null,
   "metadata": {
    "ExecuteTime": {
     "end_time": "2021-04-23T06:48:38.167056Z",
     "start_time": "2021-04-23T06:48:37.012Z"
    }
   },
   "outputs": [],
   "source": [
    "df = pd.DataFrame(data = np.random.randint(1,10,size = (10,3)),columns = [\"Python\",\"Java\",\"Groovy\"],index = list(\"ABCDEFGHIJ\"))\n",
    "df"
   ]
  },
  {
   "cell_type": "code",
   "execution_count": null,
   "metadata": {
    "ExecuteTime": {
     "end_time": "2021-04-23T06:48:38.168056Z",
     "start_time": "2021-04-23T06:48:37.021Z"
    }
   },
   "outputs": [],
   "source": [
    "df.rename(index = {'A':'X','B':'Y','C':'Z'},columns={'Python':'人工智能','Java':'大数据'})"
   ]
  },
  {
   "cell_type": "code",
   "execution_count": null,
   "metadata": {
    "ExecuteTime": {
     "end_time": "2021-04-23T06:48:38.169055Z",
     "start_time": "2021-04-23T06:48:37.028Z"
    }
   },
   "outputs": [],
   "source": [
    "df.replace({9:10})"
   ]
  },
  {
   "cell_type": "code",
   "execution_count": null,
   "metadata": {
    "ExecuteTime": {
     "end_time": "2021-04-23T06:48:38.170053Z",
     "start_time": "2021-04-23T06:48:37.036Z"
    }
   },
   "outputs": [],
   "source": [
    "df.replace({'Groovy':3},-3)"
   ]
  },
  {
   "cell_type": "markdown",
   "metadata": {},
   "source": [
    "#### map映射元素"
   ]
  },
  {
   "cell_type": "code",
   "execution_count": null,
   "metadata": {
    "ExecuteTime": {
     "end_time": "2021-04-23T06:48:38.171058Z",
     "start_time": "2021-04-23T06:48:37.046Z"
    }
   },
   "outputs": [],
   "source": [
    "# map只能针对一列操作，即：Series。没有映射的值都会转为NaN\n",
    "df['Python'].map({9:90,3:30})"
   ]
  },
  {
   "cell_type": "code",
   "execution_count": null,
   "metadata": {
    "ExecuteTime": {
     "end_time": "2021-04-23T06:48:38.173056Z",
     "start_time": "2021-04-23T06:48:37.051Z"
    }
   },
   "outputs": [],
   "source": [
    "df['Java'].map(lambda x:x ** 2)"
   ]
  },
  {
   "cell_type": "code",
   "execution_count": null,
   "metadata": {
    "ExecuteTime": {
     "end_time": "2021-04-23T06:48:38.174055Z",
     "start_time": "2021-04-23T06:48:37.057Z"
    }
   },
   "outputs": [],
   "source": [
    "def convert(x:int) -> int:\n",
    "    return x ** 3\n",
    "df.Groovy.map(convert)"
   ]
  },
  {
   "cell_type": "markdown",
   "metadata": {
    "ExecuteTime": {
     "end_time": "2021-04-21T13:15:27.578113Z",
     "start_time": "2021-04-21T13:15:27.570984Z"
    }
   },
   "source": [
    "#### apply映射元素转变"
   ]
  },
  {
   "cell_type": "code",
   "execution_count": null,
   "metadata": {
    "ExecuteTime": {
     "end_time": "2021-04-23T06:48:38.175057Z",
     "start_time": "2021-04-23T06:48:37.063Z"
    }
   },
   "outputs": [],
   "source": [
    "# apply既可以修改Series又可以修改DataFrame\n",
    "# apply针对列进行修改\n",
    "df.Python.apply(lambda x : x * 2)"
   ]
  },
  {
   "cell_type": "code",
   "execution_count": null,
   "metadata": {
    "ExecuteTime": {
     "end_time": "2021-04-23T06:48:38.176058Z",
     "start_time": "2021-04-23T06:48:37.069Z"
    }
   },
   "outputs": [],
   "source": [
    "# apply针对ataFrame进行修改\n",
    "df.apply(lambda x : x * 2)"
   ]
  },
  {
   "cell_type": "markdown",
   "metadata": {},
   "source": [
    "#### transform元素转变"
   ]
  },
  {
   "cell_type": "code",
   "execution_count": null,
   "metadata": {
    "ExecuteTime": {
     "end_time": "2021-04-23T06:48:38.178055Z",
     "start_time": "2021-04-23T06:48:37.076Z"
    }
   },
   "outputs": [],
   "source": [
    "# transform和apply用法类似\n",
    "df.transform(lambda x : x * 3)"
   ]
  },
  {
   "cell_type": "markdown",
   "metadata": {},
   "source": [
    "#### 重排随机抽样哑变量"
   ]
  },
  {
   "cell_type": "code",
   "execution_count": null,
   "metadata": {
    "ExecuteTime": {
     "end_time": "2021-04-23T06:48:38.179054Z",
     "start_time": "2021-04-23T06:48:37.086Z"
    }
   },
   "outputs": [],
   "source": [
    "# 返回乱序的随机数据\n",
    "index = np.random.permutation(10)\n",
    "index"
   ]
  },
  {
   "cell_type": "code",
   "execution_count": null,
   "metadata": {
    "ExecuteTime": {
     "end_time": "2021-04-23T06:48:38.180058Z",
     "start_time": "2021-04-23T06:48:37.091Z"
    }
   },
   "outputs": [],
   "source": [
    "# 重排，将索引顺序打乱\n",
    "df.take(index)"
   ]
  },
  {
   "cell_type": "code",
   "execution_count": null,
   "metadata": {
    "ExecuteTime": {
     "end_time": "2021-04-23T06:48:38.182054Z",
     "start_time": "2021-04-23T06:48:37.095Z"
    }
   },
   "outputs": [],
   "source": [
    "# 随机抽样数据\n",
    "index = np.random.permutation(10)\n",
    "\n",
    "df.take(np.random.permutation(10)).tail(3)"
   ]
  },
  {
   "cell_type": "code",
   "execution_count": null,
   "metadata": {
    "ExecuteTime": {
     "end_time": "2021-04-23T06:48:38.183055Z",
     "start_time": "2021-04-23T06:48:37.099Z"
    }
   },
   "outputs": [],
   "source": [
    "# 哑变量数据准备\n",
    "df = pd.DataFrame(data={'key':list('ababcbc')})\n",
    "df"
   ]
  },
  {
   "cell_type": "code",
   "execution_count": null,
   "metadata": {
    "ExecuteTime": {
     "end_time": "2021-04-23T06:48:38.184057Z",
     "start_time": "2021-04-23T06:48:37.102Z"
    }
   },
   "outputs": [],
   "source": [
    "# 哑变量 - one-hot\n",
    "pd.get_dummies(df,prefix='',prefix_sep='')"
   ]
  },
  {
   "cell_type": "code",
   "execution_count": null,
   "metadata": {
    "ExecuteTime": {
     "end_time": "2021-04-23T06:48:38.185055Z",
     "start_time": "2021-04-23T06:48:37.106Z"
    }
   },
   "outputs": [],
   "source": [
    "df = pd.DataFrame(data={\"A\":list('ababcbc'),\"B\":list('xyxyzyz')})\n",
    "df"
   ]
  },
  {
   "cell_type": "code",
   "execution_count": null,
   "metadata": {
    "ExecuteTime": {
     "end_time": "2021-04-23T06:48:38.188059Z",
     "start_time": "2021-04-23T06:48:37.109Z"
    }
   },
   "outputs": [],
   "source": [
    "pd.get_dummies(df)"
   ]
  },
  {
   "cell_type": "markdown",
   "metadata": {},
   "source": [
    "### 数据重塑"
   ]
  },
  {
   "cell_type": "code",
   "execution_count": null,
   "metadata": {
    "ExecuteTime": {
     "end_time": "2021-04-23T06:48:38.190056Z",
     "start_time": "2021-04-23T06:48:37.114Z"
    }
   },
   "outputs": [],
   "source": [
    "df"
   ]
  },
  {
   "cell_type": "code",
   "execution_count": null,
   "metadata": {
    "ExecuteTime": {
     "end_time": "2021-04-23T06:48:38.191056Z",
     "start_time": "2021-04-23T06:48:37.118Z"
    }
   },
   "outputs": [],
   "source": [
    "df.T"
   ]
  },
  {
   "cell_type": "code",
   "execution_count": null,
   "metadata": {
    "ExecuteTime": {
     "end_time": "2021-04-23T06:48:38.192057Z",
     "start_time": "2021-04-23T06:48:37.122Z"
    },
    "scrolled": true
   },
   "outputs": [],
   "source": [
    "df2 = pd.DataFrame(data = np.random.randint(0,10,size = (30,3)),columns=['Python','Java','Groovy'],index = pd.MultiIndex.from_product([list(\"ABCDEGHIJK\"),list(\"XYZ\")]))\n",
    "df2"
   ]
  },
  {
   "cell_type": "code",
   "execution_count": null,
   "metadata": {
    "ExecuteTime": {
     "end_time": "2021-04-23T06:48:38.194052Z",
     "start_time": "2021-04-23T06:48:37.130Z"
    }
   },
   "outputs": [],
   "source": [
    "# unstack将行索引转变为列索引，level表示层级，默认：-1表示最后一层，层次是从外往里数的\n",
    "df2.unstack(level = 1)"
   ]
  },
  {
   "cell_type": "code",
   "execution_count": null,
   "metadata": {
    "ExecuteTime": {
     "end_time": "2021-04-23T06:48:38.195057Z",
     "start_time": "2021-04-23T06:48:37.137Z"
    }
   },
   "outputs": [],
   "source": [
    "# stack将列索引转变为行索引\n",
    "df2.stack()"
   ]
  },
  {
   "cell_type": "code",
   "execution_count": null,
   "metadata": {
    "ExecuteTime": {
     "end_time": "2021-04-23T06:48:38.196060Z",
     "start_time": "2021-04-23T06:48:37.143Z"
    }
   },
   "outputs": [],
   "source": [
    "display(df2.unstack(level=1).stack(level = 0),df2.unstack(level=0).stack(level = 0))"
   ]
  },
  {
   "cell_type": "code",
   "execution_count": null,
   "metadata": {
    "ExecuteTime": {
     "end_time": "2021-04-23T06:48:38.197058Z",
     "start_time": "2021-04-23T06:48:37.147Z"
    }
   },
   "outputs": [],
   "source": [
    "df2.mean(axis=1,level=0)"
   ]
  },
  {
   "cell_type": "markdown",
   "metadata": {
    "ExecuteTime": {
     "end_time": "2021-04-23T06:48:38.198054Z",
     "start_time": "2021-04-23T06:48:37.150Z"
    }
   },
   "source": [
    "### 数据可视化"
   ]
  },
  {
   "cell_type": "markdown",
   "metadata": {
    "ExecuteTime": {
     "end_time": "2021-04-23T06:49:00.288661Z",
     "start_time": "2021-04-23T06:49:00.283662Z"
    }
   },
   "source": [
    "#### 线形图"
   ]
  },
  {
   "cell_type": "code",
   "execution_count": 39,
   "metadata": {
    "ExecuteTime": {
     "end_time": "2021-04-23T07:01:21.800129Z",
     "start_time": "2021-04-23T07:01:21.628606Z"
    }
   },
   "outputs": [
    {
     "data": {
      "text/plain": [
       "<AxesSubplot:>"
      ]
     },
     "execution_count": 39,
     "metadata": {},
     "output_type": "execute_result"
    },
    {
     "data": {
      "image/png": "[encoded data removed]",
      "text/plain": [
       "<Figure size 432x288 with 1 Axes>"
      ]
     },
     "metadata": {
      "needs_background": "light"
     },
     "output_type": "display_data"
    }
   ],
   "source": [
    "%matplotlib inline\n",
    "# plot表示划线，带括号表示确定划线，想换其他图形应在plot后面跟上其他图形，例如：plot.bar()\n",
    "df1 = pd.DataFrame(np.random.randn(1000,4),columns = list(\"ABCD\"))\n",
    "df1.cumsum().plot()"
   ]
  },
  {
   "cell_type": "markdown",
   "metadata": {},
   "source": [
    "#### 条形图、柱状图"
   ]
  },
  {
   "cell_type": "code",
   "execution_count": 43,
   "metadata": {
    "ExecuteTime": {
     "end_time": "2021-04-23T07:03:32.880787Z",
     "start_time": "2021-04-23T07:03:32.376019Z"
    }
   },
   "outputs": [
    {
     "data": {
      "text/plain": [
       "<AxesSubplot:>"
      ]
     },
     "execution_count": 43,
     "metadata": {},
     "output_type": "execute_result"
    },
    {
     "data": {
      "image/png": "[encoded data removed]",
      "text/plain": [
       "<Figure size 432x288 with 1 Axes>"
      ]
     },
     "metadata": {
      "needs_background": "light"
     },
     "output_type": "display_data"
    },
    {
     "data": {
      "image/png": "[encoded data removed]",
      "text/plain": [
       "<Figure size 432x288 with 1 Axes>"
      ]
     },
     "metadata": {
      "needs_background": "light"
     },
     "output_type": "display_data"
    }
   ],
   "source": [
    "df2 = pd.DataFrame(np.random.rand(10,4),columns=list(\"ABCD\"))\n",
    "df2.plot.bar(stacked = True)\n",
    "df2.plot.barh()"
   ]
  },
  {
   "cell_type": "markdown",
   "metadata": {},
   "source": [
    "#### 饼图"
   ]
  },
  {
   "cell_type": "code",
   "execution_count": 62,
   "metadata": {
    "ExecuteTime": {
     "end_time": "2021-04-23T07:12:18.397087Z",
     "start_time": "2021-04-23T07:12:17.968089Z"
    }
   },
   "outputs": [
    {
     "data": {
      "text/plain": [
       "array([<AxesSubplot:ylabel='one'>, <AxesSubplot:ylabel='two'>],\n",
       "      dtype=object)"
      ]
     },
     "execution_count": 62,
     "metadata": {},
     "output_type": "execute_result"
    },
    {
     "data": {
      "image/png": "[encoded data removed]",
      "text/plain": [
       "<Figure size 432x288 with 1 Axes>"
      ]
     },
     "metadata": {},
     "output_type": "display_data"
    },
    {
     "data": {
      "image/png": "[encoded data removed]",
      "text/plain": [
       "<Figure size 720x720 with 2 Axes>"
      ]
     },
     "metadata": {},
     "output_type": "display_data"
    }
   ],
   "source": [
    "df3 = pd.DataFrame(np.random.rand(4,2),columns = ['one','two'],index = list(\"ABCD\"))\n",
    "df3['one'].plot.pie()\n",
    "df3.plot.pie(subplots=True,figsize = (10,10),autopct = '%0.2f%%')"
   ]
  },
  {
   "cell_type": "markdown",
   "metadata": {
    "ExecuteTime": {
     "end_time": "2021-04-23T07:12:44.590821Z",
     "start_time": "2021-04-23T07:12:44.583820Z"
    }
   },
   "source": [
    "#### 散点图"
   ]
  },
  {
   "cell_type": "code",
   "execution_count": 68,
   "metadata": {
    "ExecuteTime": {
     "end_time": "2021-04-23T07:15:01.799443Z",
     "start_time": "2021-04-23T07:15:01.665188Z"
    }
   },
   "outputs": [
    {
     "data": {
      "text/plain": [
       "<AxesSubplot:xlabel='A', ylabel='B'>"
      ]
     },
     "execution_count": 68,
     "metadata": {},
     "output_type": "execute_result"
    },
    {
     "data": {
      "image/png": "[encoded data removed]",
      "text/plain": [
       "<Figure size 432x288 with 1 Axes>"
      ]
     },
     "metadata": {
      "needs_background": "light"
     },
     "output_type": "display_data"
    }
   ],
   "source": [
    "# 散点图表示两个属性之间的关系\n",
    "df4 = pd.DataFrame(np.random.randn(100,4),columns = list(\"ABCD\"))\n",
    "df4.plot.scatter(x = 'A',y = 'B')"
   ]
  },
  {
   "cell_type": "code",
   "execution_count": 86,
   "metadata": {
    "ExecuteTime": {
     "end_time": "2021-04-23T07:28:41.134331Z",
     "start_time": "2021-04-23T07:28:40.952706Z"
    }
   },
   "outputs": [
    {
     "data": {
      "text/plain": [
       "<AxesSubplot:xlabel='B', ylabel='D'>"
      ]
     },
     "execution_count": 86,
     "metadata": {},
     "output_type": "execute_result"
    },
    {
     "data": {
      "image/png": "[encoded data removed]",
      "text/plain": [
       "<Figure size 432x288 with 1 Axes>"
      ]
     },
     "metadata": {
      "needs_background": "light"
     },
     "output_type": "display_data"
    }
   ],
   "source": [
    "# 在一张图当中，显示A和C的关系还有B和D的关系\n",
    "\n",
    "# 返回值，视图\n",
    "ac = df4.plot.scatter(x = 'A' , y = 'C' , color = 'RED',label = 'A & C')\n",
    "\n",
    "# 再次向ac中绘制图形\n",
    "# ax 表示继续绘制\n",
    "# s 表示点的大小\n",
    "# alpha表示透明度\n",
    "df4.plot.scatter(x = 'B', y = 'D',color = 'Blue' ,label = 'B & D', ax = ac,s = np.random.randint(20,60,size = 100),alpha = 0.5)"
   ]
  },
  {
   "cell_type": "markdown",
   "metadata": {},
   "source": [
    "#### 面积图"
   ]
  },
  {
   "cell_type": "code",
   "execution_count": 91,
   "metadata": {
    "ExecuteTime": {
     "end_time": "2021-04-23T07:30:44.058862Z",
     "start_time": "2021-04-23T07:30:43.831955Z"
    }
   },
   "outputs": [
    {
     "data": {
      "text/html": [
       "<div>\n",
       "<style scoped>\n",
       "    .dataframe tbody tr th:only-of-type {\n",
       "        vertical-align: middle;\n",
       "    }\n",
       "\n",
       "    .dataframe tbody tr th {\n",
       "        vertical-align: top;\n",
       "    }\n",
       "\n",
       "    .dataframe thead th {\n",
       "        text-align: right;\n",
       "    }\n",
       "</style>\n",
       "<table border=\"1\" class=\"dataframe\">\n",
       "  <thead>\n",
       "    <tr style=\"text-align: right;\">\n",
       "      <th></th>\n",
       "      <th>A</th>\n",
       "      <th>B</th>\n",
       "      <th>C</th>\n",
       "      <th>D</th>\n",
       "    </tr>\n",
       "  </thead>\n",
       "  <tbody>\n",
       "    <tr>\n",
       "      <th>0</th>\n",
       "      <td>0.536748</td>\n",
       "      <td>0.126014</td>\n",
       "      <td>0.133253</td>\n",
       "      <td>0.363589</td>\n",
       "    </tr>\n",
       "    <tr>\n",
       "      <th>1</th>\n",
       "      <td>0.914025</td>\n",
       "      <td>0.490749</td>\n",
       "      <td>0.455394</td>\n",
       "      <td>0.947248</td>\n",
       "    </tr>\n",
       "    <tr>\n",
       "      <th>2</th>\n",
       "      <td>0.519364</td>\n",
       "      <td>0.095715</td>\n",
       "      <td>0.887771</td>\n",
       "      <td>0.070019</td>\n",
       "    </tr>\n",
       "    <tr>\n",
       "      <th>3</th>\n",
       "      <td>0.143246</td>\n",
       "      <td>0.545907</td>\n",
       "      <td>0.440515</td>\n",
       "      <td>0.416294</td>\n",
       "    </tr>\n",
       "    <tr>\n",
       "      <th>4</th>\n",
       "      <td>0.280420</td>\n",
       "      <td>0.192238</td>\n",
       "      <td>0.844216</td>\n",
       "      <td>0.160426</td>\n",
       "    </tr>\n",
       "    <tr>\n",
       "      <th>5</th>\n",
       "      <td>0.776373</td>\n",
       "      <td>0.839979</td>\n",
       "      <td>0.418553</td>\n",
       "      <td>0.657984</td>\n",
       "    </tr>\n",
       "    <tr>\n",
       "      <th>6</th>\n",
       "      <td>0.835712</td>\n",
       "      <td>0.141555</td>\n",
       "      <td>0.301910</td>\n",
       "      <td>0.184506</td>\n",
       "    </tr>\n",
       "    <tr>\n",
       "      <th>7</th>\n",
       "      <td>0.190786</td>\n",
       "      <td>0.159606</td>\n",
       "      <td>0.496491</td>\n",
       "      <td>0.381102</td>\n",
       "    </tr>\n",
       "    <tr>\n",
       "      <th>8</th>\n",
       "      <td>0.685321</td>\n",
       "      <td>0.553860</td>\n",
       "      <td>0.622426</td>\n",
       "      <td>0.715057</td>\n",
       "    </tr>\n",
       "    <tr>\n",
       "      <th>9</th>\n",
       "      <td>0.229962</td>\n",
       "      <td>0.297229</td>\n",
       "      <td>0.848182</td>\n",
       "      <td>0.430055</td>\n",
       "    </tr>\n",
       "  </tbody>\n",
       "</table>\n",
       "</div>"
      ],
      "text/plain": [
       "          A         B         C         D\n",
       "0  0.536748  0.126014  0.133253  0.363589\n",
       "1  0.914025  0.490749  0.455394  0.947248\n",
       "2  0.519364  0.095715  0.887771  0.070019\n",
       "3  0.143246  0.545907  0.440515  0.416294\n",
       "4  0.280420  0.192238  0.844216  0.160426\n",
       "5  0.776373  0.839979  0.418553  0.657984\n",
       "6  0.835712  0.141555  0.301910  0.184506\n",
       "7  0.190786  0.159606  0.496491  0.381102\n",
       "8  0.685321  0.553860  0.622426  0.715057\n",
       "9  0.229962  0.297229  0.848182  0.430055"
      ]
     },
     "execution_count": 91,
     "metadata": {},
     "output_type": "execute_result"
    },
    {
     "data": {
      "image/png": "[encoded data removed]",
      "text/plain": [
       "<Figure size 432x288 with 1 Axes>"
      ]
     },
     "metadata": {
      "needs_background": "light"
     },
     "output_type": "display_data"
    }
   ],
   "source": [
    "df5 = pd.DataFrame(np.random.rand(10,4),columns = list(\"ABCD\"))\n",
    "df5.plot.area(stacked = True)\n",
    "df5"
   ]
  },
  {
   "cell_type": "markdown",
   "metadata": {
    "ExecuteTime": {
     "end_time": "2021-04-23T07:32:01.187798Z",
     "start_time": "2021-04-23T07:32:01.177390Z"
    }
   },
   "source": [
    "#### 箱线图"
   ]
  },
  {
   "cell_type": "code",
   "execution_count": 96,
   "metadata": {
    "ExecuteTime": {
     "end_time": "2021-04-23T07:33:03.773516Z",
     "start_time": "2021-04-23T07:33:03.573516Z"
    }
   },
   "outputs": [
    {
     "data": {
      "text/html": [
       "<div>\n",
       "<style scoped>\n",
       "    .dataframe tbody tr th:only-of-type {\n",
       "        vertical-align: middle;\n",
       "    }\n",
       "\n",
       "    .dataframe tbody tr th {\n",
       "        vertical-align: top;\n",
       "    }\n",
       "\n",
       "    .dataframe thead th {\n",
       "        text-align: right;\n",
       "    }\n",
       "</style>\n",
       "<table border=\"1\" class=\"dataframe\">\n",
       "  <thead>\n",
       "    <tr style=\"text-align: right;\">\n",
       "      <th></th>\n",
       "      <th>A</th>\n",
       "      <th>B</th>\n",
       "      <th>C</th>\n",
       "      <th>D</th>\n",
       "      <th>E</th>\n",
       "    </tr>\n",
       "  </thead>\n",
       "  <tbody>\n",
       "    <tr>\n",
       "      <th>count</th>\n",
       "      <td>20.000000</td>\n",
       "      <td>20.000000</td>\n",
       "      <td>20.000000</td>\n",
       "      <td>20.000000</td>\n",
       "      <td>20.000000</td>\n",
       "    </tr>\n",
       "    <tr>\n",
       "      <th>mean</th>\n",
       "      <td>-0.078369</td>\n",
       "      <td>-0.076225</td>\n",
       "      <td>-0.406041</td>\n",
       "      <td>0.031153</td>\n",
       "      <td>-0.179033</td>\n",
       "    </tr>\n",
       "    <tr>\n",
       "      <th>std</th>\n",
       "      <td>1.128494</td>\n",
       "      <td>0.949250</td>\n",
       "      <td>0.783024</td>\n",
       "      <td>0.928798</td>\n",
       "      <td>0.816817</td>\n",
       "    </tr>\n",
       "    <tr>\n",
       "      <th>min</th>\n",
       "      <td>-1.975980</td>\n",
       "      <td>-1.614527</td>\n",
       "      <td>-1.714794</td>\n",
       "      <td>-1.617461</td>\n",
       "      <td>-1.619502</td>\n",
       "    </tr>\n",
       "    <tr>\n",
       "      <th>25%</th>\n",
       "      <td>-0.848250</td>\n",
       "      <td>-0.756292</td>\n",
       "      <td>-0.856866</td>\n",
       "      <td>-0.424031</td>\n",
       "      <td>-0.895611</td>\n",
       "    </tr>\n",
       "    <tr>\n",
       "      <th>50%</th>\n",
       "      <td>-0.194154</td>\n",
       "      <td>-0.288339</td>\n",
       "      <td>-0.235694</td>\n",
       "      <td>0.247454</td>\n",
       "      <td>-0.196576</td>\n",
       "    </tr>\n",
       "    <tr>\n",
       "      <th>75%</th>\n",
       "      <td>0.536981</td>\n",
       "      <td>0.467742</td>\n",
       "      <td>-0.017871</td>\n",
       "      <td>0.611480</td>\n",
       "      <td>0.481092</td>\n",
       "    </tr>\n",
       "    <tr>\n",
       "      <th>max</th>\n",
       "      <td>2.072488</td>\n",
       "      <td>1.678993</td>\n",
       "      <td>0.992214</td>\n",
       "      <td>1.820041</td>\n",
       "      <td>1.429931</td>\n",
       "    </tr>\n",
       "  </tbody>\n",
       "</table>\n",
       "</div>"
      ],
      "text/plain": [
       "               A          B          C          D          E\n",
       "count  20.000000  20.000000  20.000000  20.000000  20.000000\n",
       "mean   -0.078369  -0.076225  -0.406041   0.031153  -0.179033\n",
       "std     1.128494   0.949250   0.783024   0.928798   0.816817\n",
       "min    -1.975980  -1.614527  -1.714794  -1.617461  -1.619502\n",
       "25%    -0.848250  -0.756292  -0.856866  -0.424031  -0.895611\n",
       "50%    -0.194154  -0.288339  -0.235694   0.247454  -0.196576\n",
       "75%     0.536981   0.467742  -0.017871   0.611480   0.481092\n",
       "max     2.072488   1.678993   0.992214   1.820041   1.429931"
      ]
     },
     "execution_count": 96,
     "metadata": {},
     "output_type": "execute_result"
    },
    {
     "data": {
      "image/png": "[encoded data removed]",
      "text/plain": [
       "<Figure size 432x288 with 1 Axes>"
      ]
     },
     "metadata": {
      "needs_background": "light"
     },
     "output_type": "display_data"
    }
   ],
   "source": [
    "df6 = pd.DataFrame(np.random.randn(20,5),columns = list(\"ABCDE\"))\n",
    "\n",
    "df6.plot.box()\n",
    "df6.describe()"
   ]
  },
  {
   "cell_type": "markdown",
   "metadata": {
    "ExecuteTime": {
     "end_time": "2021-04-23T07:35:53.823504Z",
     "start_time": "2021-04-23T07:35:53.812505Z"
    }
   },
   "source": [
    "#### 直方图"
   ]
  },
  {
   "cell_type": "code",
   "execution_count": 101,
   "metadata": {
    "ExecuteTime": {
     "end_time": "2021-04-23T07:38:18.846417Z",
     "start_time": "2021-04-23T07:38:18.448418Z"
    }
   },
   "outputs": [
    {
     "data": {
      "text/plain": [
       "<AxesSubplot:ylabel='Frequency'>"
      ]
     },
     "execution_count": 101,
     "metadata": {},
     "output_type": "execute_result"
    },
    {
     "data": {
      "image/png": "[encoded data removed]",
      "text/plain": [
       "<Figure size 432x288 with 1 Axes>"
      ]
     },
     "metadata": {
      "needs_background": "light"
     },
     "output_type": "display_data"
    },
    {
     "data": {
      "image/png": "[encoded data removed]",
      "text/plain": [
       "<Figure size 432x288 with 1 Axes>"
      ]
     },
     "metadata": {
      "needs_background": "light"
     },
     "output_type": "display_data"
    }
   ],
   "source": [
    "df7 = pd.DataFrame(data = {'A':np.random.randn(1000) - 2,\n",
    "                          'B':np.random.randn(1000),\n",
    "                           'C':np.random.randn(1000) + 2,\n",
    "                          })\n",
    "df7.plot.hist()\n",
    "df7.plot.hist(stacked = True)"
   ]
  },
  {
   "cell_type": "markdown",
   "metadata": {
    "ExecuteTime": {
     "end_time": "2021-04-23T07:42:36.166997Z",
     "start_time": "2021-04-23T07:42:36.158977Z"
    }
   },
   "source": [
    "### Pandas实战"
   ]
  },
  {
   "cell_type": "code",
   "execution_count": null,
   "metadata": {},
   "outputs": [],
   "source": []
  },
  {
   "cell_type": "code",
   "execution_count": null,
   "metadata": {},
   "outputs": [],
   "source": []
  },
  {
   "cell_type": "code",
   "execution_count": null,
   "metadata": {},
   "outputs": [],
   "source": []
  },
  {
   "cell_type": "code",
   "execution_count": null,
   "metadata": {},
   "outputs": [],
   "source": []
  },
  {
   "cell_type": "code",
   "execution_count": null,
   "metadata": {},
   "outputs": [],
   "source": []
  },
  {
   "cell_type": "code",
   "execution_count": null,
   "metadata": {},
   "outputs": [],
   "source": []
  },
  {
   "cell_type": "code",
   "execution_count": null,
   "metadata": {},
   "outputs": [],
   "source": []
  },
  {
   "cell_type": "code",
   "execution_count": null,
   "metadata": {},
   "outputs": [],
   "source": []
  },
  {
   "cell_type": "code",
   "execution_count": null,
   "metadata": {},
   "outputs": [],
   "source": []
  },
  {
   "cell_type": "code",
   "execution_count": null,
   "metadata": {},
   "outputs": [],
   "source": []
  },
  {
   "cell_type": "code",
   "execution_count": null,
   "metadata": {},
   "outputs": [],
   "source": []
  },
  {
   "cell_type": "code",
   "execution_count": null,
   "metadata": {},
   "outputs": [],
   "source": []
  },
  {
   "cell_type": "code",
   "execution_count": null,
   "metadata": {},
   "outputs": [],
   "source": []
  },
  {
   "cell_type": "code",
   "execution_count": null,
   "metadata": {},
   "outputs": [],
   "source": []
  },
  {
   "cell_type": "code",
   "execution_count": null,
   "metadata": {},
   "outputs": [],
   "source": []
  },
  {
   "cell_type": "code",
   "execution_count": null,
   "metadata": {},
   "outputs": [],
   "source": []
  },
  {
   "cell_type": "code",
   "execution_count": null,
   "metadata": {},
   "outputs": [],
   "source": []
  },
  {
   "cell_type": "code",
   "execution_count": null,
   "metadata": {},
   "outputs": [],
   "source": []
  },
  {
   "cell_type": "code",
   "execution_count": null,
   "metadata": {},
   "outputs": [],
   "source": []
  },
  {
   "cell_type": "code",
   "execution_count": null,
   "metadata": {},
   "outputs": [],
   "source": []
  },
  {
   "cell_type": "code",
   "execution_count": null,
   "metadata": {},
   "outputs": [],
   "source": []
  },
  {
   "cell_type": "code",
   "execution_count": null,
   "metadata": {},
   "outputs": [],
   "source": []
  },
  {
   "cell_type": "code",
   "execution_count": null,
   "metadata": {},
   "outputs": [],
   "source": []
  },
  {
   "cell_type": "code",
   "execution_count": null,
   "metadata": {},
   "outputs": [],
   "source": []
  },
  {
   "cell_type": "code",
   "execution_count": null,
   "metadata": {},
   "outputs": [],
   "source": []
  },
  {
   "cell_type": "code",
   "execution_count": null,
   "metadata": {},
   "outputs": [],
   "source": []
  },
  {
   "cell_type": "code",
   "execution_count": null,
   "metadata": {},
   "outputs": [],
   "source": []
  },
  {
   "cell_type": "code",
   "execution_count": null,
   "metadata": {},
   "outputs": [],
   "source": []
  },
  {
   "cell_type": "code",
   "execution_count": null,
   "metadata": {},
   "outputs": [],
   "source": []
  },
  {
   "cell_type": "code",
   "execution_count": null,
   "metadata": {},
   "outputs": [],
   "source": []
  },
  {
   "cell_type": "code",
   "execution_count": null,
   "metadata": {},
   "outputs": [],
   "source": []
  }
 ],
 "metadata": {
  "kernelspec": {
   "display_name": "Python 3",
   "language": "python",
   "name": "python3"
  },
  "language_info": {
   "codemirror_mode": {
    "name": "ipython",
    "version": 3
   },
   "file_extension": ".py",
   "mimetype": "text/x-python",
   "name": "python",
   "nbconvert_exporter": "python",
   "pygments_lexer": "ipython3",
   "version": "3.7.1"
  },
  "toc": {
   "base_numbering": 1,
   "nav_menu": {},
   "number_sections": true,
   "sideBar": true,
   "skip_h1_title": false,
   "title_cell": "Table of Contents",
   "title_sidebar": "Contents",
   "toc_cell": false,
   "toc_position": {
    "height": "calc(100% - 180px)",
    "left": "10px",
    "top": "150px",
    "width": "269.2px"
   },
   "toc_section_display": true,
   "toc_window_display": true
  }
 },
 "nbformat": 4,
 "nbformat_minor": 1
}
