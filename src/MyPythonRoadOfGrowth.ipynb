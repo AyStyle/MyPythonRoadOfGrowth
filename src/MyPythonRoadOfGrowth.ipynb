{
 "cells": [
  {
   "cell_type": "markdown",
   "metadata": {
    "collapsed": true,
    "pycharm": {
     "name": "#%% md\n"
    }
   },
   "source": [
    "## 课程大纲\n",
    "1. [协程](#1)\n",
    "2. [asyncio模块进行异步编程](#2)\n",
    "3. [实战案例](#3)"
   ]
  },
  {
   "cell_type": "markdown",
   "source": [
    "### <a id = \"1\" >1.协程</a>\n",
    "+ 定义：\n",
    "    ```text\n",
    "    协程（Coroutine），也可以被称为微线程，是一种用户态内的上下文切换技术。\n",
    "    简而言之，其实就是通过一个线程实现代码块互相切换执行。\n",
    "    ```\n",
    "\n",
    "+ 协程实现的方法：\n",
    "    + greenlet\n",
    "    + yield关键字\n",
    "    + asyncio装饰器（py3.4之后）\n",
    "    + async、await关键字（py3.5之后，推荐）\n",
    "\n",
    "+ 协程的意义：\n",
    "    ```\n",
    "    在一个线程中如果遇到IO等待时间，线程不会傻傻等待，利用空闲的时间再去做些其他时间\n",
    "    ```"
   ],
   "metadata": {
    "collapsed": false,
    "pycharm": {
     "name": "#%% md\n"
    }
   }
  },
  {
   "cell_type": "markdown",
   "source": [
    "#### 1.1 greenlet实现协程"
   ],
   "metadata": {
    "collapsed": false,
    "pycharm": {
     "name": "#%% md\n"
    }
   }
  },
  {
   "cell_type": "code",
   "execution_count": null,
   "outputs": [],
   "source": [
    "from greenlet import greenlet\n",
    "\n",
    "\n",
    "def func1():\n",
    "    print(1)\n",
    "    gr2.switch()\n",
    "    print(3)\n",
    "    gr2.switch()\n",
    "\n",
    "\n",
    "def func2():\n",
    "    print(2)\n",
    "    gr1.switch()\n",
    "    print(4)\n",
    "    gr1.switch()\n",
    "\n",
    "\n",
    "gr1 = greenlet(func1)\n",
    "gr2 = greenlet(func2)\n",
    "gr1.switch()"
   ],
   "metadata": {
    "collapsed": false,
    "pycharm": {
     "name": "#%%\n"
    }
   }
  },
  {
   "cell_type": "markdown",
   "source": [
    "#### 1.2 yield关键字实现协程"
   ],
   "metadata": {
    "collapsed": false,
    "pycharm": {
     "name": "#%% md\n"
    }
   }
  },
  {
   "cell_type": "code",
   "execution_count": null,
   "outputs": [],
   "source": [
    "def func1():\n",
    "    yield 1\n",
    "    yield from func2()\n",
    "    yield 3\n",
    "\n",
    "\n",
    "def func2():\n",
    "    yield 2\n",
    "    yield 4\n",
    "\n",
    "\n",
    "[print(_) for _ in func1()]"
   ],
   "metadata": {
    "collapsed": false,
    "pycharm": {
     "name": "#%%\n"
    }
   }
  },
  {
   "cell_type": "markdown",
   "source": [
    "#### 1.3 asyncio实现协程（Python3.4及之后的版本使用）"
   ],
   "metadata": {
    "collapsed": false,
    "pycharm": {
     "name": "#%% md\n"
    }
   }
  },
  {
   "cell_type": "code",
   "execution_count": null,
   "outputs": [],
   "source": [
    "import asyncio\n",
    "\n",
    "\n",
    "@asyncio.coroutine\n",
    "def func1():\n",
    "    print(1)\n",
    "    yield from asyncio.sleep(2)  # 遇到IO耗时操作，自动切换到tasks中的其他任务上\n",
    "    print(3)\n",
    "\n",
    "\n",
    "@asyncio.coroutine\n",
    "def func2():\n",
    "    print(2)\n",
    "    yield from asyncio.sleep(2)  # 遇到IO耗时操作，自动切换到tasks中的其他任务上\n",
    "    print(4)\n",
    "\n",
    "\n",
    "tasks = [\n",
    "    asyncio.ensure_future(func1()),\n",
    "    asyncio.ensure_future(func2())\n",
    "]\n",
    "\n",
    "loop = asyncio.get_event_loop()\n",
    "loop.run_until_complete(asyncio.wait(tasks))\n",
    "# 注意：asyncio遇到IO自动切换\n"
   ],
   "metadata": {
    "collapsed": false,
    "pycharm": {
     "name": "#%%\n"
    }
   }
  },
  {
   "cell_type": "markdown",
   "source": [
    "#### 1.4 async & await关键字（Python3.5及之后的版本使用）"
   ],
   "metadata": {
    "collapsed": false,
    "pycharm": {
     "name": "#%% md\n"
    }
   }
  },
  {
   "cell_type": "code",
   "execution_count": null,
   "outputs": [],
   "source": [
    "import asyncio\n",
    "\n",
    "\n",
    "async def func1():\n",
    "    print(1)\n",
    "    await asyncio.sleep(2)  # 遇到IO耗时操作，自动切换到tasks中的其他任务上\n",
    "    print(3)\n",
    "\n",
    "\n",
    "async def func2():\n",
    "    print(2)\n",
    "    await asyncio.sleep(2)  # 遇到IO耗时操作，自动切换到tasks中的其他任务上\n",
    "    print(4)\n",
    "\n",
    "\n",
    "tasks = [\n",
    "    asyncio.ensure_future(func1()),\n",
    "    asyncio.ensure_future(func2())\n",
    "]\n",
    "\n",
    "loop = asyncio.get_event_loop()\n",
    "loop.run_until_complete(asyncio.wait(tasks))\n"
   ],
   "metadata": {
    "collapsed": false,
    "pycharm": {
     "name": "#%%\n"
    }
   }
  },
  {
   "cell_type": "markdown",
   "source": [
    "### <a id = \"2\">2. asyncio模块进行异步编程</a>\n",
    "\n",
    "#### 2.1 事件循环\n",
    "+ 理解：就是一个死循环，去检测并执行某些代码\n",
    "\n",
    "+ 伪代码：\n",
    "    ```\n",
    "    任务列表 = [任务1，任务2，...，任务N]\n",
    "\n",
    "    while True:\n",
    "        可执行的任务列表，已完成的任务列表 = 去任务列表中检查所有的任务，将“可执行”和“已完成”的任务返回\n",
    "\n",
    "        for 就绪任务 in 可执行的任务列表:\n",
    "            执行已就绪的任务\n",
    "\n",
    "        for 已完成的任务 in 已完成的任务列表:\n",
    "            在任务列表中移除已完成的任务\n",
    "\n",
    "        if 任务列表中的任务都已完成:\n",
    "            终止循环\n",
    "    ```\n"
   ],
   "metadata": {
    "collapsed": false,
    "pycharm": {
     "name": "#%% md\n"
    }
   }
  },
  {
   "cell_type": "markdown",
   "source": [
    "#### 2.2 async\n",
    "+ 协程函数：定义函数的时候格式为： async def 函数名\n",
    "+ 协程对象：执行 协程函数() 得到的对象。\n",
    "\n",
    "```python\n",
    "# 协程函数\n",
    "async def func():\n",
    "    pass\n",
    "\n",
    "# 协程对象\n",
    "obj = func()\n",
    "\n",
    "# 注意：执行协程函数时创建的协程对象，函数内部的代码是不会执行的\n",
    "```\n"
   ],
   "metadata": {
    "collapsed": false,
    "pycharm": {
     "name": "#%% md\n"
    }
   }
  },
  {
   "cell_type": "code",
   "execution_count": 1,
   "outputs": [
    {
     "ename": "RuntimeError",
     "evalue": "asyncio.run() cannot be called from a running event loop",
     "output_type": "error",
     "traceback": [
      "\u001B[1;31m---------------------------------------------------------------------------\u001B[0m",
      "\u001B[1;31mRuntimeError\u001B[0m                              Traceback (most recent call last)",
      "\u001B[1;32m<ipython-input-1-b4ad713e7dca>\u001B[0m in \u001B[0;36m<module>\u001B[1;34m\u001B[0m\n\u001B[0;32m     11\u001B[0m \u001B[1;33m\u001B[0m\u001B[0m\n\u001B[0;32m     12\u001B[0m \u001B[1;31m# python3.7之后使用\u001B[0m\u001B[1;33m\u001B[0m\u001B[1;33m\u001B[0m\u001B[1;33m\u001B[0m\u001B[0m\n\u001B[1;32m---> 13\u001B[1;33m \u001B[0masyncio\u001B[0m\u001B[1;33m.\u001B[0m\u001B[0mrun\u001B[0m\u001B[1;33m(\u001B[0m\u001B[0mresult\u001B[0m\u001B[1;33m)\u001B[0m\u001B[1;33m\u001B[0m\u001B[1;33m\u001B[0m\u001B[0m\n\u001B[0m\u001B[0;32m     14\u001B[0m \u001B[1;33m\u001B[0m\u001B[0m\n\u001B[0;32m     15\u001B[0m \u001B[1;33m\u001B[0m\u001B[0m\n",
      "\u001B[1;32mD:\\Python\\lib\\asyncio\\runners.py\u001B[0m in \u001B[0;36mrun\u001B[1;34m(main, debug)\u001B[0m\n\u001B[0;32m     32\u001B[0m     \u001B[1;32mif\u001B[0m \u001B[0mevents\u001B[0m\u001B[1;33m.\u001B[0m\u001B[0m_get_running_loop\u001B[0m\u001B[1;33m(\u001B[0m\u001B[1;33m)\u001B[0m \u001B[1;32mis\u001B[0m \u001B[1;32mnot\u001B[0m \u001B[1;32mNone\u001B[0m\u001B[1;33m:\u001B[0m\u001B[1;33m\u001B[0m\u001B[1;33m\u001B[0m\u001B[0m\n\u001B[0;32m     33\u001B[0m         raise RuntimeError(\n\u001B[1;32m---> 34\u001B[1;33m             \"asyncio.run() cannot be called from a running event loop\")\n\u001B[0m\u001B[0;32m     35\u001B[0m \u001B[1;33m\u001B[0m\u001B[0m\n\u001B[0;32m     36\u001B[0m     \u001B[1;32mif\u001B[0m \u001B[1;32mnot\u001B[0m \u001B[0mcoroutines\u001B[0m\u001B[1;33m.\u001B[0m\u001B[0miscoroutine\u001B[0m\u001B[1;33m(\u001B[0m\u001B[0mmain\u001B[0m\u001B[1;33m)\u001B[0m\u001B[1;33m:\u001B[0m\u001B[1;33m\u001B[0m\u001B[1;33m\u001B[0m\u001B[0m\n",
      "\u001B[1;31mRuntimeError\u001B[0m: asyncio.run() cannot be called from a running event loop"
     ]
    }
   ],
   "source": [
    "import asyncio\n",
    "\n",
    "\n",
    "async def func():\n",
    "    print(\"快来搞我吧！\")\n",
    "\n",
    "\n",
    "result = func()\n",
    "\n",
    "# 获取或生成事件循环对象\n",
    "# loop = asyncio.get_event_loop()\n",
    "# 执行事件循环对象，直到完成\n",
    "# loop.run_until_complete(result )\n",
    "\n",
    "# python3.7之后使用\n",
    "asyncio.run(result)\n",
    "\n"
   ],
   "metadata": {
    "collapsed": false,
    "pycharm": {
     "name": "#%%\n"
    }
   }
  },
  {
   "cell_type": "markdown",
   "source": [
    "#### 2.3 await\n",
    "+ 用法：await + 可等待的对象（协程对象、Future、Task）\n",
    "\n",
    "+ 注意：await就是等待对象的值得到结果之后再继续向下走。"
   ],
   "metadata": {
    "collapsed": false,
    "pycharm": {
     "name": "#%% md\n"
    }
   }
  },
  {
   "cell_type": "code",
   "execution_count": 2,
   "outputs": [
    {
     "ename": "RuntimeError",
     "evalue": "asyncio.run() cannot be called from a running event loop",
     "output_type": "error",
     "traceback": [
      "\u001B[1;31m---------------------------------------------------------------------------\u001B[0m",
      "\u001B[1;31mRuntimeError\u001B[0m                              Traceback (most recent call last)",
      "\u001B[1;32m<ipython-input-2-fc31e59eddc1>\u001B[0m in \u001B[0;36m<module>\u001B[1;34m\u001B[0m\n\u001B[0;32m      6\u001B[0m     \u001B[0mprint\u001B[0m\u001B[1;33m(\u001B[0m\u001B[1;34m\"结束\"\u001B[0m\u001B[1;33m,\u001B[0m\u001B[0mresponse\u001B[0m\u001B[1;33m)\u001B[0m\u001B[1;33m\u001B[0m\u001B[1;33m\u001B[0m\u001B[0m\n\u001B[0;32m      7\u001B[0m \u001B[1;33m\u001B[0m\u001B[0m\n\u001B[1;32m----> 8\u001B[1;33m \u001B[0masyncio\u001B[0m\u001B[1;33m.\u001B[0m\u001B[0mrun\u001B[0m\u001B[1;33m(\u001B[0m\u001B[0mfunc\u001B[0m\u001B[1;33m(\u001B[0m\u001B[1;33m)\u001B[0m\u001B[1;33m)\u001B[0m\u001B[1;33m\u001B[0m\u001B[1;33m\u001B[0m\u001B[0m\n\u001B[0m",
      "\u001B[1;32mD:\\Python\\lib\\asyncio\\runners.py\u001B[0m in \u001B[0;36mrun\u001B[1;34m(main, debug)\u001B[0m\n\u001B[0;32m     32\u001B[0m     \u001B[1;32mif\u001B[0m \u001B[0mevents\u001B[0m\u001B[1;33m.\u001B[0m\u001B[0m_get_running_loop\u001B[0m\u001B[1;33m(\u001B[0m\u001B[1;33m)\u001B[0m \u001B[1;32mis\u001B[0m \u001B[1;32mnot\u001B[0m \u001B[1;32mNone\u001B[0m\u001B[1;33m:\u001B[0m\u001B[1;33m\u001B[0m\u001B[1;33m\u001B[0m\u001B[0m\n\u001B[0;32m     33\u001B[0m         raise RuntimeError(\n\u001B[1;32m---> 34\u001B[1;33m             \"asyncio.run() cannot be called from a running event loop\")\n\u001B[0m\u001B[0;32m     35\u001B[0m \u001B[1;33m\u001B[0m\u001B[0m\n\u001B[0;32m     36\u001B[0m     \u001B[1;32mif\u001B[0m \u001B[1;32mnot\u001B[0m \u001B[0mcoroutines\u001B[0m\u001B[1;33m.\u001B[0m\u001B[0miscoroutine\u001B[0m\u001B[1;33m(\u001B[0m\u001B[0mmain\u001B[0m\u001B[1;33m)\u001B[0m\u001B[1;33m:\u001B[0m\u001B[1;33m\u001B[0m\u001B[1;33m\u001B[0m\u001B[0m\n",
      "\u001B[1;31mRuntimeError\u001B[0m: asyncio.run() cannot be called from a running event loop"
     ]
    }
   ],
   "source": [
    "# 示例1：\n",
    "import asyncio\n",
    "\n",
    "\n",
    "async def func():\n",
    "    print(\"来玩啊\")\n",
    "    response = await asyncio.sleep(2)\n",
    "    print(\"结束\", response)\n",
    "\n",
    "\n",
    "asyncio.run(func())\n"
   ],
   "metadata": {
    "collapsed": false,
    "pycharm": {
     "name": "#%%\n"
    }
   }
  },
  {
   "cell_type": "code",
   "execution_count": 3,
   "outputs": [
    {
     "ename": "RuntimeError",
     "evalue": "asyncio.run() cannot be called from a running event loop",
     "output_type": "error",
     "traceback": [
      "\u001B[1;31m---------------------------------------------------------------------------\u001B[0m",
      "\u001B[1;31mRuntimeError\u001B[0m                              Traceback (most recent call last)",
      "\u001B[1;32m<ipython-input-3-eea621151ff2>\u001B[0m in \u001B[0;36m<module>\u001B[1;34m\u001B[0m\n\u001B[0;32m     15\u001B[0m     \u001B[0mprint\u001B[0m\u001B[1;33m(\u001B[0m\u001B[1;34m\"IO请求结束，结果为：\"\u001B[0m\u001B[1;33m,\u001B[0m\u001B[0mresponse\u001B[0m\u001B[1;33m)\u001B[0m\u001B[1;33m\u001B[0m\u001B[1;33m\u001B[0m\u001B[0m\n\u001B[0;32m     16\u001B[0m \u001B[1;33m\u001B[0m\u001B[0m\n\u001B[1;32m---> 17\u001B[1;33m \u001B[0masyncio\u001B[0m\u001B[1;33m.\u001B[0m\u001B[0mrun\u001B[0m\u001B[1;33m(\u001B[0m\u001B[0mfunc\u001B[0m\u001B[1;33m(\u001B[0m\u001B[1;33m)\u001B[0m\u001B[1;33m)\u001B[0m\u001B[1;33m\u001B[0m\u001B[1;33m\u001B[0m\u001B[0m\n\u001B[0m",
      "\u001B[1;32mD:\\Python\\lib\\asyncio\\runners.py\u001B[0m in \u001B[0;36mrun\u001B[1;34m(main, debug)\u001B[0m\n\u001B[0;32m     32\u001B[0m     \u001B[1;32mif\u001B[0m \u001B[0mevents\u001B[0m\u001B[1;33m.\u001B[0m\u001B[0m_get_running_loop\u001B[0m\u001B[1;33m(\u001B[0m\u001B[1;33m)\u001B[0m \u001B[1;32mis\u001B[0m \u001B[1;32mnot\u001B[0m \u001B[1;32mNone\u001B[0m\u001B[1;33m:\u001B[0m\u001B[1;33m\u001B[0m\u001B[1;33m\u001B[0m\u001B[0m\n\u001B[0;32m     33\u001B[0m         raise RuntimeError(\n\u001B[1;32m---> 34\u001B[1;33m             \"asyncio.run() cannot be called from a running event loop\")\n\u001B[0m\u001B[0;32m     35\u001B[0m \u001B[1;33m\u001B[0m\u001B[0m\n\u001B[0;32m     36\u001B[0m     \u001B[1;32mif\u001B[0m \u001B[1;32mnot\u001B[0m \u001B[0mcoroutines\u001B[0m\u001B[1;33m.\u001B[0m\u001B[0miscoroutine\u001B[0m\u001B[1;33m(\u001B[0m\u001B[0mmain\u001B[0m\u001B[1;33m)\u001B[0m\u001B[1;33m:\u001B[0m\u001B[1;33m\u001B[0m\u001B[1;33m\u001B[0m\u001B[0m\n",
      "\u001B[1;31mRuntimeError\u001B[0m: asyncio.run() cannot be called from a running event loop"
     ]
    }
   ],
   "source": [
    "# 示例2：\n",
    "import asyncio\n",
    "\n",
    "\n",
    "async def others():\n",
    "    print(\"start\")\n",
    "    await asyncio.sleep(2)\n",
    "    print(\"end\")\n",
    "    return \"返回值\"\n",
    "\n",
    "\n",
    "async def func():\n",
    "    print(\"执行协程函数内部代码\")\n",
    "    # 遇到IO操作挂起当前协程任务，等IO操作完成之后在继续往下执行。\n",
    "    # 当前协程挂起时，事件循环可以去执行其他协程任务\n",
    "    response = await others()\n",
    "    print(\"IO请求结束，结果为：\", response)\n",
    "\n",
    "\n",
    "asyncio.run(func())\n"
   ],
   "metadata": {
    "collapsed": false,
    "pycharm": {
     "name": "#%%\n"
    }
   }
  },
  {
   "cell_type": "code",
   "execution_count": null,
   "outputs": [],
   "source": [
    "# 示例3：\n",
    "import asyncio\n",
    "\n",
    "\n",
    "async def others():\n",
    "    print(\"start\")\n",
    "    await asyncio.sleep(2)\n",
    "    print(\"end\")\n",
    "    return \"返回值\"\n",
    "\n",
    "\n",
    "async def func():\n",
    "    print(\"执行协程函数内部代码\")\n",
    "    # 遇到IO操作挂起当前协程任务，等IO操作完成之后在继续往下执行。\n",
    "    # 当前协程挂起时，事件循环可以去执行其他协程任务\n",
    "    response = await others()\n",
    "    print(\"IO请求结束，结果为：\", response)\n",
    "\n",
    "    response = await others()\n",
    "    print(\"IO请求结束，结果为：\", response)\n",
    "\n",
    "    response = await others()\n",
    "    print(\"IO请求结束，结果为：\", response)\n",
    "\n",
    "\n",
    "asyncio.run(func())\n"
   ],
   "metadata": {
    "collapsed": false,
    "pycharm": {
     "name": "#%%\n"
    }
   }
  },
  {
   "cell_type": "markdown",
   "source": [
    "#### 2.4 task对象\n",
    "+ 作用：用来在事件循环中添加多个任务\n",
    "\n",
    "+ 注意：asyncio.create_task()在Python3.7之后被引入。在Python3.7之前可以使用asyncio.ensure_future()或loop.create_task()"
   ],
   "metadata": {
    "collapsed": false
   }
  },
  {
   "cell_type": "code",
   "execution_count": null,
   "outputs": [],
   "source": [
    "# 示例1\n",
    "import asyncio\n",
    "\n",
    "\n",
    "async def func(i):\n",
    "    print(i, 'start')\n",
    "    await asyncio.sleep(2)\n",
    "    print(i, 'stop')\n",
    "\n",
    "\n",
    "async def main():\n",
    "    print(\"main start\")\n",
    "\n",
    "    # 创建Task对象，将当前执行func函数任务添加到事件循环。\n",
    "    task1 = asyncio.create_task(func(1))\n",
    "    task2 = asyncio.create_task(func(2))\n",
    "\n",
    "    # 当执行某协程遇到IO操作时，会自动化切换执行其他任务\n",
    "    # 此处的await是等待相对应的协程全部执行完毕并获取结果\n",
    "    ret1 = await task1\n",
    "    ret2 = await task2\n",
    "\n",
    "    print(ret1, ret2)\n",
    "\n",
    "    print(\"main stop\")\n",
    "\n",
    "\n",
    "asyncio.run(main())\n"
   ],
   "metadata": {
    "collapsed": false,
    "pycharm": {
     "name": "#%%\n"
    }
   }
  },
  {
   "cell_type": "code",
   "execution_count": 4,
   "outputs": [
    {
     "ename": "RuntimeError",
     "evalue": "asyncio.run() cannot be called from a running event loop",
     "output_type": "error",
     "traceback": [
      "\u001B[1;31m---------------------------------------------------------------------------\u001B[0m",
      "\u001B[1;31mRuntimeError\u001B[0m                              Traceback (most recent call last)",
      "\u001B[1;32m<ipython-input-4-52580e2bf0f5>\u001B[0m in \u001B[0;36m<module>\u001B[1;34m\u001B[0m\n\u001B[0;32m     24\u001B[0m \u001B[1;33m\u001B[0m\u001B[0m\n\u001B[0;32m     25\u001B[0m \u001B[1;33m\u001B[0m\u001B[0m\n\u001B[1;32m---> 26\u001B[1;33m \u001B[0masyncio\u001B[0m\u001B[1;33m.\u001B[0m\u001B[0mrun\u001B[0m\u001B[1;33m(\u001B[0m\u001B[0mmain\u001B[0m\u001B[1;33m(\u001B[0m\u001B[1;33m)\u001B[0m\u001B[1;33m)\u001B[0m\u001B[1;33m\u001B[0m\u001B[1;33m\u001B[0m\u001B[0m\n\u001B[0m",
      "\u001B[1;32mD:\\Python\\lib\\asyncio\\runners.py\u001B[0m in \u001B[0;36mrun\u001B[1;34m(main, debug)\u001B[0m\n\u001B[0;32m     32\u001B[0m     \u001B[1;32mif\u001B[0m \u001B[0mevents\u001B[0m\u001B[1;33m.\u001B[0m\u001B[0m_get_running_loop\u001B[0m\u001B[1;33m(\u001B[0m\u001B[1;33m)\u001B[0m \u001B[1;32mis\u001B[0m \u001B[1;32mnot\u001B[0m \u001B[1;32mNone\u001B[0m\u001B[1;33m:\u001B[0m\u001B[1;33m\u001B[0m\u001B[1;33m\u001B[0m\u001B[0m\n\u001B[0;32m     33\u001B[0m         raise RuntimeError(\n\u001B[1;32m---> 34\u001B[1;33m             \"asyncio.run() cannot be called from a running event loop\")\n\u001B[0m\u001B[0;32m     35\u001B[0m \u001B[1;33m\u001B[0m\u001B[0m\n\u001B[0;32m     36\u001B[0m     \u001B[1;32mif\u001B[0m \u001B[1;32mnot\u001B[0m \u001B[0mcoroutines\u001B[0m\u001B[1;33m.\u001B[0m\u001B[0miscoroutine\u001B[0m\u001B[1;33m(\u001B[0m\u001B[0mmain\u001B[0m\u001B[1;33m)\u001B[0m\u001B[1;33m:\u001B[0m\u001B[1;33m\u001B[0m\u001B[1;33m\u001B[0m\u001B[0m\n",
      "\u001B[1;31mRuntimeError\u001B[0m: asyncio.run() cannot be called from a running event loop"
     ]
    }
   ],
   "source": [
    "# 示例2：推荐\n",
    "import asyncio\n",
    "\n",
    "\n",
    "async def func(i):\n",
    "    print(i, 'start')\n",
    "    await asyncio.sleep(2)\n",
    "    print(i, 'stop')\n",
    "\n",
    "\n",
    "async def main():\n",
    "    print(\"main start\")\n",
    "\n",
    "    # 创建Task对象，将当前执行func函数任务添加到事件循环。\n",
    "    tasks = [asyncio.create_task(func(1)),\n",
    "             asyncio.create_task(func(2)), ]\n",
    "\n",
    "    # 当执行某协程遇到IO操作时，会自动化切换执行其他任务\n",
    "    # 此处的await是等待相对应的协程全部执行完毕并获取结果\n",
    "    done, pending = await asyncio.wait(tasks)\n",
    "    print(done, pending)\n",
    "\n",
    "    print(\"main stop\")\n",
    "\n",
    "\n",
    "asyncio.run(main())\n"
   ],
   "metadata": {
    "collapsed": false,
    "pycharm": {
     "name": "#%%\n"
    }
   }
  },
  {
   "cell_type": "code",
   "execution_count": null,
   "outputs": [],
   "source": [
    "# 示例3：了解\n",
    "import asyncio\n",
    "\n",
    "\n",
    "async def func(i):\n",
    "    print(i, 'start')\n",
    "    await asyncio.sleep(2)\n",
    "    print(i, 'stop')\n",
    "\n",
    "\n",
    "tasks = [func(1), func(2), ]\n",
    "\n",
    "asyncio.run(asyncio.wait(tasks))"
   ],
   "metadata": {
    "collapsed": false,
    "pycharm": {
     "name": "#%%\n"
    }
   }
  },
  {
   "cell_type": "markdown",
   "source": [
    "#### 2.5 Future对象\n",
    "+ 说明：Task继承Future，Task对象内部await结果的处理基于Future对象来的。\n"
   ],
   "metadata": {
    "collapsed": false,
    "pycharm": {
     "name": "#%% md\n"
    }
   }
  },
  {
   "cell_type": "code",
   "execution_count": null,
   "outputs": [],
   "source": [
    "# 示例1：\n",
    "import asyncio\n",
    "\n",
    "\n",
    "async def main():\n",
    "    # 获取当前事件循环\n",
    "    loop = asyncio.get_running_loop()\n",
    "\n",
    "    # 创建一个任务（Future对象），这个任务什么都不干。\n",
    "    fut = loop.create_future()\n",
    "\n",
    "    # 等待任务最终结果（Future对象），没有结果则会一直等待下去。\n",
    "    await fut\n",
    "\n",
    "\n",
    "asyncio.run(main())\n"
   ],
   "metadata": {
    "collapsed": false,
    "pycharm": {
     "name": "#%%\n"
    }
   }
  },
  {
   "cell_type": "code",
   "execution_count": null,
   "outputs": [],
   "source": [
    "import asyncio\n",
    "\n",
    "\n",
    "async def set_after(fut):\n",
    "    await asyncio.sleep(2)\n",
    "    fut.set_result(\"666\")\n",
    "\n",
    "\n",
    "async def main():\n",
    "    # 获取当前事件循环\n",
    "    loop = asyncio.get_running_loop()\n",
    "\n",
    "    # 创建一个任务（Future对象），没有绑定任务行为，则：这个任务永远都不会停止\n",
    "    fut = loop.create_future()\n",
    "\n",
    "    # 创建一个任务（Task对象），绑定了set_after函数，函数内部在2s之后，会给fut复制。\n",
    "    # 手动设置future任务的最终结果，那么fut就可以结束了\n",
    "    await loop.create_task(set_after(fut))\n",
    "\n",
    "    # 等待Future对象获取结果\n",
    "    result = await fut\n",
    "    print(result)\n",
    "\n",
    "\n",
    "asyncio.run(main())\n"
   ],
   "metadata": {
    "collapsed": false,
    "pycharm": {
     "name": "#%%\n"
    }
   }
  },
  {
   "cell_type": "markdown",
   "source": [
    "#### 2.6 concurrent.futures.Future对象\n",
    "+ 说明：使用线程池、进程池实现异步操作时用到的对象。"
   ],
   "metadata": {
    "collapsed": false,
    "pycharm": {
     "name": "#%% md\n"
    }
   }
  },
  {
   "cell_type": "markdown",
   "source": [
    "#### 2.7 异步迭代器\n",
    "```python\n",
    "import asyncio\n",
    "\n",
    "class AsyncReader(object):\n",
    "    \"\"\"\n",
    "    自定义异步迭代器，同时也是异步可迭代对象\n",
    "    \"\"\"\n",
    "\n",
    "    def __init__(self):\n",
    "        self.count = 0\n",
    "\n",
    "    async def readline(self):\n",
    "        # 模拟异步操作\n",
    "        await asyncio.sleep(1)\n",
    "        self.count +=1\n",
    "        if self.count == 100:\n",
    "            return None\n",
    "\n",
    "        return self.count\n",
    "\n",
    "    async def __aiter__(self):\n",
    "        return self\n",
    "\n",
    "    async def __anext__(self) :\n",
    "        val = await self.readline()\n",
    "        if val is None :\n",
    "            raise StopAsyncIteration\n",
    "\n",
    "        return val\n",
    "\n",
    "async def func():\n",
    "    async for each in AsyncReader():\n",
    "        print(each)\n",
    "\n",
    "asyncio.run(func())\n",
    "```\n"
   ],
   "metadata": {
    "collapsed": false,
    "pycharm": {
     "name": "#%% md\n"
    }
   }
  },
  {
   "cell_type": "markdown",
   "source": [
    "#### 2.8 异步上下文管理器\n",
    "```python\n",
    "import asyncio\n",
    "class AsyncContentManager(object):\n",
    "    \"\"\"定义一个异步上下文管理器对象\"\"\"\n",
    "\n",
    "    def __init__(self):\n",
    "        self.conn = None\n",
    "\n",
    "    async def do_something(self):\n",
    "        # 异步操作数据库\n",
    "        return \"result\"\n",
    "\n",
    "    async def __aenter__(self):\n",
    "        # 异步连接数据库\n",
    "        self.conn = await asyncio.sleep(1)\n",
    "\n",
    "        return self\n",
    "\n",
    "    async def __aexit__(self,exc_type,exc,tb):\n",
    "        # 异步关闭数据库\n",
    "        await asyncio.sleep(1)\n",
    "\n",
    "async def func():\n",
    "    async with AsyncContentManager() as f :\n",
    "        result = await f.do_something()\n",
    "        print(result)\n",
    "\n",
    "asyncio.run(func())\n",
    "```\n"
   ],
   "metadata": {
    "collapsed": false,
    "pycharm": {
     "name": "#%% md\n"
    }
   }
  },
  {
   "cell_type": "markdown",
   "source": [
    "#### 2.9 uvloop (windows 系统暂不支持)\n",
    "```python\n",
    "import asyncio\n",
    "import uvloop # 需要引入第三方包\n",
    "# 是asyncio事件循环的代替方案。uvloop事件循环 > 默认asyncio事件循环\n",
    "# 核心代码\n",
    "asyncio.set_event_loop_policy(uvloop.EventLoopPolicy())\n",
    "\n",
    "# 编写正常的asyncio代码即可，内部的事件循环会替换成uvloop的事件循环\n",
    "\n",
    "asyncio.run(...)\n",
    "```"
   ],
   "metadata": {
    "collapsed": false,
    "pycharm": {
     "name": "#%% md\n"
    }
   }
  }
 ],
 "metadata": {
  "kernelspec": {
   "display_name": "Python 3",
   "language": "python",
   "name": "python3"
  },
  "language_info": {
   "codemirror_mode": {
    "name": "ipython",
    "version": 2
   },
   "file_extension": ".py",
   "mimetype": "text/x-python",
   "name": "python",
   "nbconvert_exporter": "python",
   "pygments_lexer": "ipython2",
   "version": "2.7.6"
  }
 },
 "nbformat": 4,
 "nbformat_minor": 0
}